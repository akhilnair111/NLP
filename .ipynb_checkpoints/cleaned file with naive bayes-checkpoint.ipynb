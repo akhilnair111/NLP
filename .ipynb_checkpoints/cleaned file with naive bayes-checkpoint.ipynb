{
 "cells": [
  {
   "cell_type": "code",
   "execution_count": 7,
   "metadata": {},
   "outputs": [],
   "source": [
    "import os\n",
    "import pandas as pd\n",
    "os.chdir(\"C:/Users/Akhil/Desktop\")\n",
    "train = pd.read_csv(\"Train_Dataset.csv\")"
   ]
  },
  {
   "cell_type": "code",
   "execution_count": 8,
   "metadata": {},
   "outputs": [],
   "source": [
    "train['Exp'] = train[\"experience\"].str.extract(\"(\\d*\\d.?\\d+)\", expand=True)"
   ]
  },
  {
   "cell_type": "code",
   "execution_count": 9,
   "metadata": {},
   "outputs": [],
   "source": [
    "train['Exp'] = train['Exp'].str.split('-')"
   ]
  },
  {
   "cell_type": "code",
   "execution_count": 10,
   "metadata": {},
   "outputs": [
    {
     "data": {
      "text/html": [
       "<div>\n",
       "<style scoped>\n",
       "    .dataframe tbody tr th:only-of-type {\n",
       "        vertical-align: middle;\n",
       "    }\n",
       "\n",
       "    .dataframe tbody tr th {\n",
       "        vertical-align: top;\n",
       "    }\n",
       "\n",
       "    .dataframe thead th {\n",
       "        text-align: right;\n",
       "    }\n",
       "</style>\n",
       "<table border=\"1\" class=\"dataframe\">\n",
       "  <thead>\n",
       "    <tr style=\"text-align: right;\">\n",
       "      <th></th>\n",
       "      <th>job_desig</th>\n",
       "      <th>key_skills</th>\n",
       "      <th>City coded</th>\n",
       "      <th>Avg_Salary</th>\n",
       "    </tr>\n",
       "  </thead>\n",
       "  <tbody>\n",
       "    <tr>\n",
       "      <th>0</th>\n",
       "      <td>Senior Exploit and Vulnerability Researcher</td>\n",
       "      <td>team skills, communication skills, analytical ...</td>\n",
       "      <td>Delhi NCR</td>\n",
       "      <td>8.0</td>\n",
       "    </tr>\n",
       "    <tr>\n",
       "      <th>1</th>\n",
       "      <td>Head SCM</td>\n",
       "      <td>ppc, logistics, inventory management, supply c...</td>\n",
       "      <td>Tier 2</td>\n",
       "      <td>12.5</td>\n",
       "    </tr>\n",
       "    <tr>\n",
       "      <th>2</th>\n",
       "      <td>Deputy Manager - Talent Management &amp; Leadershi...</td>\n",
       "      <td>HR Analytics, Employee Engagement, Training, S...</td>\n",
       "      <td>Delhi NCR</td>\n",
       "      <td>20.0</td>\n",
       "    </tr>\n",
       "    <tr>\n",
       "      <th>3</th>\n",
       "      <td>Associate Manager Data Engineering</td>\n",
       "      <td>SQL, Javascript, Automation, Python, Ruby, Ana...</td>\n",
       "      <td>Bengaluru</td>\n",
       "      <td>12.5</td>\n",
       "    </tr>\n",
       "    <tr>\n",
       "      <th>4</th>\n",
       "      <td>TS- GSA- Senior Analyst</td>\n",
       "      <td>accounting, finance, cash flow, financial plan...</td>\n",
       "      <td>Delhi NCR</td>\n",
       "      <td>4.5</td>\n",
       "    </tr>\n",
       "    <tr>\n",
       "      <th>5</th>\n",
       "      <td>Senior Trainer- Academics</td>\n",
       "      <td>academics, effective communication, teacher tr...</td>\n",
       "      <td>Delhi NCR</td>\n",
       "      <td>8.0</td>\n",
       "    </tr>\n",
       "    <tr>\n",
       "      <th>6</th>\n",
       "      <td>Associate Vice President - Fraud Analytics - S...</td>\n",
       "      <td>Fraud Analytics, People Management Skills, Tea...</td>\n",
       "      <td>Delhi NCR</td>\n",
       "      <td>37.5</td>\n",
       "    </tr>\n",
       "    <tr>\n",
       "      <th>7</th>\n",
       "      <td>Manager - Internal Audit - CA - Big4</td>\n",
       "      <td>Accounting, Internal Audit, Auditing, Enterpri...</td>\n",
       "      <td>Pune</td>\n",
       "      <td>8.0</td>\n",
       "    </tr>\n",
       "    <tr>\n",
       "      <th>8</th>\n",
       "      <td>Payroll Executive</td>\n",
       "      <td>esic, hr, bonus, pf, tds, payroll, superannuat...</td>\n",
       "      <td>Ahmedabad</td>\n",
       "      <td>1.5</td>\n",
       "    </tr>\n",
       "    <tr>\n",
       "      <th>9</th>\n",
       "      <td>Required CA (manager Finance) for R&amp;R Salons P...</td>\n",
       "      <td>accounting standards, finance, auditing, finan...</td>\n",
       "      <td>Bengaluru</td>\n",
       "      <td>20.0</td>\n",
       "    </tr>\n",
       "    <tr>\n",
       "      <th>10</th>\n",
       "      <td>Business Analyst</td>\n",
       "      <td>Test Data, Data Science, Business Analysis, Ma...</td>\n",
       "      <td>Punjab</td>\n",
       "      <td>8.0</td>\n",
       "    </tr>\n",
       "    <tr>\n",
       "      <th>11</th>\n",
       "      <td>Senior AVP - Model Development - Bank - IIM/ M...</td>\n",
       "      <td>Banking, Model Development, Analytics, People ...</td>\n",
       "      <td>Delhi NCR</td>\n",
       "      <td>12.5</td>\n",
       "    </tr>\n",
       "    <tr>\n",
       "      <th>12</th>\n",
       "      <td>Sales and Marketing Data Analyst - Data Analytics</td>\n",
       "      <td>Marketing Automation, Sales, Salesforce, Eloqu...</td>\n",
       "      <td>Pune</td>\n",
       "      <td>12.5</td>\n",
       "    </tr>\n",
       "    <tr>\n",
       "      <th>13</th>\n",
       "      <td>Analytics Specialist - Data Science &amp; Big Data</td>\n",
       "      <td>Data Science, Machine Learning, R, Big Data, P...</td>\n",
       "      <td>Mumbai</td>\n",
       "      <td>8.0</td>\n",
       "    </tr>\n",
       "    <tr>\n",
       "      <th>14</th>\n",
       "      <td>Manager / Assistant Manager- FP &amp;A</td>\n",
       "      <td>Budgeting, Variance Analysis, Forecasting, Capex</td>\n",
       "      <td>Delhi NCR</td>\n",
       "      <td>12.5</td>\n",
       "    </tr>\n",
       "    <tr>\n",
       "      <th>15</th>\n",
       "      <td>NLP &amp; Semantic Specialist - Java/j2ee</td>\n",
       "      <td>Spring, Core Java, J2Ee, Hibernate, Javascript...</td>\n",
       "      <td>Delhi NCR</td>\n",
       "      <td>12.5</td>\n",
       "    </tr>\n",
       "    <tr>\n",
       "      <th>16</th>\n",
       "      <td>Hadoop Developer - Rdbms/netezza/oracle</td>\n",
       "      <td>Hadoop, HBase, Digital Marketing, Netezza, Uni...</td>\n",
       "      <td>Bengaluru</td>\n",
       "      <td>8.0</td>\n",
       "    </tr>\n",
       "    <tr>\n",
       "      <th>17</th>\n",
       "      <td>Business Finance Partner</td>\n",
       "      <td>Business Finance, Financial Control, Business ...</td>\n",
       "      <td>Bengaluru</td>\n",
       "      <td>12.5</td>\n",
       "    </tr>\n",
       "    <tr>\n",
       "      <th>18</th>\n",
       "      <td>Data Scientist - Ecommerce</td>\n",
       "      <td>Information Retrieval, Hadoop, Hive, Spark, Ma...</td>\n",
       "      <td>Bengaluru</td>\n",
       "      <td>20.0</td>\n",
       "    </tr>\n",
       "    <tr>\n",
       "      <th>19</th>\n",
       "      <td>Digital Marketing Role</td>\n",
       "      <td>Digital Marketing, Google Adwords, marketing, ...</td>\n",
       "      <td>Bengaluru</td>\n",
       "      <td>8.0</td>\n",
       "    </tr>\n",
       "    <tr>\n",
       "      <th>20</th>\n",
       "      <td>Business Analyst - Gurgaon, HR</td>\n",
       "      <td>Business Analyst - Gurgaon, HR</td>\n",
       "      <td>Delhi NCR</td>\n",
       "      <td>8.0</td>\n",
       "    </tr>\n",
       "    <tr>\n",
       "      <th>21</th>\n",
       "      <td>Cyber Risk - Chennai Location - Privacy, Data ...</td>\n",
       "      <td>Business Continuity, Data Privacy, ISMS, Infor...</td>\n",
       "      <td>Chennai</td>\n",
       "      <td>37.5</td>\n",
       "    </tr>\n",
       "    <tr>\n",
       "      <th>22</th>\n",
       "      <td>Avp/senior AVP - SAS Analytics - Consulting Fi...</td>\n",
       "      <td>project implementation, client management, sas...</td>\n",
       "      <td>Bengaluru</td>\n",
       "      <td>12.5</td>\n",
       "    </tr>\n",
       "    <tr>\n",
       "      <th>23</th>\n",
       "      <td>Analyst, AR</td>\n",
       "      <td>AR, reconciliations, Finance, Accounting, work...</td>\n",
       "      <td>Pune</td>\n",
       "      <td>1.5</td>\n",
       "    </tr>\n",
       "    <tr>\n",
       "      <th>24</th>\n",
       "      <td>Immediately Required Software Tester in IT Par...</td>\n",
       "      <td>manual testing, test scripts, performance test...</td>\n",
       "      <td>Punjab</td>\n",
       "      <td>1.5</td>\n",
       "    </tr>\n",
       "    <tr>\n",
       "      <th>25</th>\n",
       "      <td>Project Manager - Investment Research - BFSI</td>\n",
       "      <td>Sales, Equity Research, Investment Research, I...</td>\n",
       "      <td>Mumbai</td>\n",
       "      <td>37.5</td>\n",
       "    </tr>\n",
       "    <tr>\n",
       "      <th>26</th>\n",
       "      <td>E Commerce Manager,</td>\n",
       "      <td>amazon, E - commerce, PORTAL HANDLING, Busines...</td>\n",
       "      <td>Ahmedabad</td>\n",
       "      <td>4.5</td>\n",
       "    </tr>\n",
       "    <tr>\n",
       "      <th>27</th>\n",
       "      <td>Financial Business Analyst (third Party Payroll)</td>\n",
       "      <td>finance, mis, business analysis, Excel, Macros</td>\n",
       "      <td>Delhi NCR</td>\n",
       "      <td>1.5</td>\n",
       "    </tr>\n",
       "    <tr>\n",
       "      <th>28</th>\n",
       "      <td>IXO IOT Applications</td>\n",
       "      <td>Analytics, Javascript, SCADA, Outsourcing, Pyt...</td>\n",
       "      <td>Bengaluru</td>\n",
       "      <td>4.5</td>\n",
       "    </tr>\n",
       "    <tr>\n",
       "      <th>29</th>\n",
       "      <td>Opportunity for Junior Manager / Assistant Man...</td>\n",
       "      <td>Life Insurance, Actuarial, Actuarial Analyst, ...</td>\n",
       "      <td>Mumbai</td>\n",
       "      <td>20.0</td>\n",
       "    </tr>\n",
       "    <tr>\n",
       "      <th>...</th>\n",
       "      <td>...</td>\n",
       "      <td>...</td>\n",
       "      <td>...</td>\n",
       "      <td>...</td>\n",
       "    </tr>\n",
       "    <tr>\n",
       "      <th>19772</th>\n",
       "      <td>Urgent Hiring/ Walk In Drive for BDE  - Jhande...</td>\n",
       "      <td>business development, marketing, franchisee de...</td>\n",
       "      <td>Delhi NCR</td>\n",
       "      <td>1.5</td>\n",
       "    </tr>\n",
       "    <tr>\n",
       "      <th>19773</th>\n",
       "      <td>Head - Product Management - Telecom/r&amp;d - Iit/...</td>\n",
       "      <td>Product Management, Head - Product Management,...</td>\n",
       "      <td>Metro</td>\n",
       "      <td>37.5</td>\n",
       "    </tr>\n",
       "    <tr>\n",
       "      <th>19774</th>\n",
       "      <td>Vertica Technical Specialist - Centre of Excel...</td>\n",
       "      <td>C, Algorithms, C++, Data Structures, Multithre...</td>\n",
       "      <td>Metro</td>\n",
       "      <td>20.0</td>\n",
       "    </tr>\n",
       "    <tr>\n",
       "      <th>19775</th>\n",
       "      <td>R1rcm- Accretive Analyst/ Senior Analyst Backe...</td>\n",
       "      <td>bpo, kpo, non bpo, night shift, us process, uk...</td>\n",
       "      <td>Delhi NCR</td>\n",
       "      <td>1.5</td>\n",
       "    </tr>\n",
       "    <tr>\n",
       "      <th>19776</th>\n",
       "      <td>Software Sales CRM</td>\n",
       "      <td>software sales, selling, predictive analytics,...</td>\n",
       "      <td>Hyderabad</td>\n",
       "      <td>1.5</td>\n",
       "    </tr>\n",
       "    <tr>\n",
       "      <th>19777</th>\n",
       "      <td>Senior Manager - Reporting/analytics &amp; Busines...</td>\n",
       "      <td>sales enablement, mis, business operations, bu...</td>\n",
       "      <td>Bengaluru</td>\n",
       "      <td>37.5</td>\n",
       "    </tr>\n",
       "    <tr>\n",
       "      <th>19778</th>\n",
       "      <td>Zonal Business Head - Lcv/hcv/ce Financing - N...</td>\n",
       "      <td>Driving, HCV, LCV, Commercial Vehicle, Structu...</td>\n",
       "      <td>Chennai</td>\n",
       "      <td>12.5</td>\n",
       "    </tr>\n",
       "    <tr>\n",
       "      <th>19779</th>\n",
       "      <td>Trading Head - Market Making/high Frequency Tr...</td>\n",
       "      <td>High Frequency Trading, Trading Head</td>\n",
       "      <td>Pan</td>\n",
       "      <td>37.5</td>\n",
       "    </tr>\n",
       "    <tr>\n",
       "      <th>19780</th>\n",
       "      <td>Azure Developer</td>\n",
       "      <td>Hive, Spark, Hadoop, Talend, Devops, Data Inte...</td>\n",
       "      <td>Hyderabad</td>\n",
       "      <td>12.5</td>\n",
       "    </tr>\n",
       "    <tr>\n",
       "      <th>19781</th>\n",
       "      <td>Content Auditor</td>\n",
       "      <td>copy writing, Content Analysis, content resear...</td>\n",
       "      <td>Delhi NCR</td>\n",
       "      <td>8.0</td>\n",
       "    </tr>\n",
       "    <tr>\n",
       "      <th>19782</th>\n",
       "      <td>Credit Manager,</td>\n",
       "      <td>Financial Analysis, Credit Analysis, Finance, ...</td>\n",
       "      <td>Delhi NCR</td>\n",
       "      <td>1.5</td>\n",
       "    </tr>\n",
       "    <tr>\n",
       "      <th>19783</th>\n",
       "      <td>Security Operations Analyst</td>\n",
       "      <td>nessus, splunk, wireshark</td>\n",
       "      <td>Mumbai</td>\n",
       "      <td>12.5</td>\n",
       "    </tr>\n",
       "    <tr>\n",
       "      <th>19784</th>\n",
       "      <td>Collection Analyst</td>\n",
       "      <td>NBFC, Interpersonal skills, Legal, Collection ...</td>\n",
       "      <td>Kolkata</td>\n",
       "      <td>12.5</td>\n",
       "    </tr>\n",
       "    <tr>\n",
       "      <th>19785</th>\n",
       "      <td>Job Opening for Mep-qs for a Leading PMC in Mu...</td>\n",
       "      <td>Estimation, Billing, Business Planning, Rate A...</td>\n",
       "      <td>Mumbai</td>\n",
       "      <td>12.5</td>\n",
       "    </tr>\n",
       "    <tr>\n",
       "      <th>19786</th>\n",
       "      <td>Full time Digital Marketing Trainer( Apply by ...</td>\n",
       "      <td>digital marketing, seo, email marketing, youtu...</td>\n",
       "      <td>Tier 2</td>\n",
       "      <td>4.5</td>\n",
       "    </tr>\n",
       "    <tr>\n",
       "      <th>19787</th>\n",
       "      <td>FP&amp;A Lead</td>\n",
       "      <td>Finance, Accounting, Budgeting, Financial Anal...</td>\n",
       "      <td>Delhi NCR</td>\n",
       "      <td>20.0</td>\n",
       "    </tr>\n",
       "    <tr>\n",
       "      <th>19788</th>\n",
       "      <td>Opening for Relationship Manager-direct Marketing</td>\n",
       "      <td>Sales, Marketing, Benefits, Cross Selling, Sal...</td>\n",
       "      <td>Chennai</td>\n",
       "      <td>1.5</td>\n",
       "    </tr>\n",
       "    <tr>\n",
       "      <th>19789</th>\n",
       "      <td>Principal Software Engineer - IT</td>\n",
       "      <td>powershell, octopus, .net, continuous integrat...</td>\n",
       "      <td>Bengaluru</td>\n",
       "      <td>12.5</td>\n",
       "    </tr>\n",
       "    <tr>\n",
       "      <th>19790</th>\n",
       "      <td>Executive / AM Sales / Sr Counselor -- Bangalore</td>\n",
       "      <td>student advisor, career advisor, enrollment ex...</td>\n",
       "      <td>Bengaluru</td>\n",
       "      <td>1.5</td>\n",
       "    </tr>\n",
       "    <tr>\n",
       "      <th>19791</th>\n",
       "      <td>Senior Product Manager</td>\n",
       "      <td>Product Strategy, Project Management, Marketin...</td>\n",
       "      <td>Chennai</td>\n",
       "      <td>20.0</td>\n",
       "    </tr>\n",
       "    <tr>\n",
       "      <th>19792</th>\n",
       "      <td>PHP Analyst - Mysql/javascript</td>\n",
       "      <td>HTML, Javascript, CSS, JQuery, JSON, Html5, My...</td>\n",
       "      <td>Delhi NCR</td>\n",
       "      <td>12.5</td>\n",
       "    </tr>\n",
       "    <tr>\n",
       "      <th>19793</th>\n",
       "      <td>SDET - Selenium Webdriver &amp; (python/java)</td>\n",
       "      <td>java, selenium webdriver, sdet, python, contin...</td>\n",
       "      <td>Chennai</td>\n",
       "      <td>12.5</td>\n",
       "    </tr>\n",
       "    <tr>\n",
       "      <th>19794</th>\n",
       "      <td>Solution Architect-security for Bangalore / Mu...</td>\n",
       "      <td>Security Analytics, SIEM, Arcsight, QRadar, Sp...</td>\n",
       "      <td>Metro</td>\n",
       "      <td>12.5</td>\n",
       "    </tr>\n",
       "    <tr>\n",
       "      <th>19795</th>\n",
       "      <td>Opening for CA Fresher | Amravati</td>\n",
       "      <td>Lap, Credit Policy, HL, Credit Risk Management...</td>\n",
       "      <td>Maharashtra</td>\n",
       "      <td>4.5</td>\n",
       "    </tr>\n",
       "    <tr>\n",
       "      <th>19796</th>\n",
       "      <td>Executive Custome Executive (merchandising )</td>\n",
       "      <td>HTML, XML, C, Communication Skills</td>\n",
       "      <td>Pune</td>\n",
       "      <td>1.5</td>\n",
       "    </tr>\n",
       "    <tr>\n",
       "      <th>19797</th>\n",
       "      <td>Director, Medical Coding Training</td>\n",
       "      <td>Medical Coding, ICD - 10, US Healthcare, RCM, ...</td>\n",
       "      <td>Hyderabad</td>\n",
       "      <td>20.0</td>\n",
       "    </tr>\n",
       "    <tr>\n",
       "      <th>19798</th>\n",
       "      <td>Looking For Freshers WHO WANT To Work WITH US</td>\n",
       "      <td>offline, online, part time, home base, work fr...</td>\n",
       "      <td>Metro</td>\n",
       "      <td>1.5</td>\n",
       "    </tr>\n",
       "    <tr>\n",
       "      <th>19799</th>\n",
       "      <td>PM- C#/ .Net ( Annuity/ Insurance Domain)</td>\n",
       "      <td>SQL Server, VB.NET, C#, .Net, C#.Net, Oracle S...</td>\n",
       "      <td>Hyderabad</td>\n",
       "      <td>20.0</td>\n",
       "    </tr>\n",
       "    <tr>\n",
       "      <th>19800</th>\n",
       "      <td>Consultant - Internal Audit</td>\n",
       "      <td>accounting, internal audit, auditing, risk adv...</td>\n",
       "      <td>Pune</td>\n",
       "      <td>12.5</td>\n",
       "    </tr>\n",
       "    <tr>\n",
       "      <th>19801</th>\n",
       "      <td>Unity 3D Developer - Mobile Games Development</td>\n",
       "      <td>IOS, XCode, Apple, Version Control, Perforce, ...</td>\n",
       "      <td>Hyderabad</td>\n",
       "      <td>12.5</td>\n",
       "    </tr>\n",
       "  </tbody>\n",
       "</table>\n",
       "<p>19802 rows × 4 columns</p>\n",
       "</div>"
      ],
      "text/plain": [
       "                                               job_desig  \\\n",
       "0            Senior Exploit and Vulnerability Researcher   \n",
       "1                                               Head SCM   \n",
       "2      Deputy Manager - Talent Management & Leadershi...   \n",
       "3                     Associate Manager Data Engineering   \n",
       "4                                TS- GSA- Senior Analyst   \n",
       "5                              Senior Trainer- Academics   \n",
       "6      Associate Vice President - Fraud Analytics - S...   \n",
       "7                   Manager - Internal Audit - CA - Big4   \n",
       "8                                      Payroll Executive   \n",
       "9      Required CA (manager Finance) for R&R Salons P...   \n",
       "10                                      Business Analyst   \n",
       "11     Senior AVP - Model Development - Bank - IIM/ M...   \n",
       "12     Sales and Marketing Data Analyst - Data Analytics   \n",
       "13        Analytics Specialist - Data Science & Big Data   \n",
       "14                    Manager / Assistant Manager- FP &A   \n",
       "15                 NLP & Semantic Specialist - Java/j2ee   \n",
       "16               Hadoop Developer - Rdbms/netezza/oracle   \n",
       "17                              Business Finance Partner   \n",
       "18                            Data Scientist - Ecommerce   \n",
       "19                                Digital Marketing Role   \n",
       "20                        Business Analyst - Gurgaon, HR   \n",
       "21     Cyber Risk - Chennai Location - Privacy, Data ...   \n",
       "22     Avp/senior AVP - SAS Analytics - Consulting Fi...   \n",
       "23                                           Analyst, AR   \n",
       "24     Immediately Required Software Tester in IT Par...   \n",
       "25          Project Manager - Investment Research - BFSI   \n",
       "26                                   E Commerce Manager,   \n",
       "27      Financial Business Analyst (third Party Payroll)   \n",
       "28                                  IXO IOT Applications   \n",
       "29     Opportunity for Junior Manager / Assistant Man...   \n",
       "...                                                  ...   \n",
       "19772  Urgent Hiring/ Walk In Drive for BDE  - Jhande...   \n",
       "19773  Head - Product Management - Telecom/r&d - Iit/...   \n",
       "19774  Vertica Technical Specialist - Centre of Excel...   \n",
       "19775  R1rcm- Accretive Analyst/ Senior Analyst Backe...   \n",
       "19776                                 Software Sales CRM   \n",
       "19777  Senior Manager - Reporting/analytics & Busines...   \n",
       "19778  Zonal Business Head - Lcv/hcv/ce Financing - N...   \n",
       "19779  Trading Head - Market Making/high Frequency Tr...   \n",
       "19780                                    Azure Developer   \n",
       "19781                                    Content Auditor   \n",
       "19782                                    Credit Manager,   \n",
       "19783                        Security Operations Analyst   \n",
       "19784                                 Collection Analyst   \n",
       "19785  Job Opening for Mep-qs for a Leading PMC in Mu...   \n",
       "19786  Full time Digital Marketing Trainer( Apply by ...   \n",
       "19787                                          FP&A Lead   \n",
       "19788  Opening for Relationship Manager-direct Marketing   \n",
       "19789                   Principal Software Engineer - IT   \n",
       "19790   Executive / AM Sales / Sr Counselor -- Bangalore   \n",
       "19791                             Senior Product Manager   \n",
       "19792                     PHP Analyst - Mysql/javascript   \n",
       "19793          SDET - Selenium Webdriver & (python/java)   \n",
       "19794  Solution Architect-security for Bangalore / Mu...   \n",
       "19795                  Opening for CA Fresher | Amravati   \n",
       "19796       Executive Custome Executive (merchandising )   \n",
       "19797                  Director, Medical Coding Training   \n",
       "19798      Looking For Freshers WHO WANT To Work WITH US   \n",
       "19799          PM- C#/ .Net ( Annuity/ Insurance Domain)   \n",
       "19800                        Consultant - Internal Audit   \n",
       "19801      Unity 3D Developer - Mobile Games Development   \n",
       "\n",
       "                                              key_skills   City coded  \\\n",
       "0      team skills, communication skills, analytical ...    Delhi NCR   \n",
       "1      ppc, logistics, inventory management, supply c...       Tier 2   \n",
       "2      HR Analytics, Employee Engagement, Training, S...    Delhi NCR   \n",
       "3      SQL, Javascript, Automation, Python, Ruby, Ana...    Bengaluru   \n",
       "4      accounting, finance, cash flow, financial plan...    Delhi NCR   \n",
       "5      academics, effective communication, teacher tr...    Delhi NCR   \n",
       "6      Fraud Analytics, People Management Skills, Tea...    Delhi NCR   \n",
       "7      Accounting, Internal Audit, Auditing, Enterpri...         Pune   \n",
       "8      esic, hr, bonus, pf, tds, payroll, superannuat...    Ahmedabad   \n",
       "9      accounting standards, finance, auditing, finan...    Bengaluru   \n",
       "10     Test Data, Data Science, Business Analysis, Ma...       Punjab   \n",
       "11     Banking, Model Development, Analytics, People ...    Delhi NCR   \n",
       "12     Marketing Automation, Sales, Salesforce, Eloqu...         Pune   \n",
       "13     Data Science, Machine Learning, R, Big Data, P...       Mumbai   \n",
       "14      Budgeting, Variance Analysis, Forecasting, Capex    Delhi NCR   \n",
       "15     Spring, Core Java, J2Ee, Hibernate, Javascript...    Delhi NCR   \n",
       "16     Hadoop, HBase, Digital Marketing, Netezza, Uni...    Bengaluru   \n",
       "17     Business Finance, Financial Control, Business ...    Bengaluru   \n",
       "18     Information Retrieval, Hadoop, Hive, Spark, Ma...    Bengaluru   \n",
       "19     Digital Marketing, Google Adwords, marketing, ...    Bengaluru   \n",
       "20                        Business Analyst - Gurgaon, HR    Delhi NCR   \n",
       "21     Business Continuity, Data Privacy, ISMS, Infor...      Chennai   \n",
       "22     project implementation, client management, sas...    Bengaluru   \n",
       "23     AR, reconciliations, Finance, Accounting, work...         Pune   \n",
       "24     manual testing, test scripts, performance test...       Punjab   \n",
       "25     Sales, Equity Research, Investment Research, I...       Mumbai   \n",
       "26     amazon, E - commerce, PORTAL HANDLING, Busines...    Ahmedabad   \n",
       "27        finance, mis, business analysis, Excel, Macros    Delhi NCR   \n",
       "28     Analytics, Javascript, SCADA, Outsourcing, Pyt...    Bengaluru   \n",
       "29     Life Insurance, Actuarial, Actuarial Analyst, ...       Mumbai   \n",
       "...                                                  ...          ...   \n",
       "19772  business development, marketing, franchisee de...    Delhi NCR   \n",
       "19773  Product Management, Head - Product Management,...        Metro   \n",
       "19774  C, Algorithms, C++, Data Structures, Multithre...        Metro   \n",
       "19775  bpo, kpo, non bpo, night shift, us process, uk...    Delhi NCR   \n",
       "19776  software sales, selling, predictive analytics,...    Hyderabad   \n",
       "19777  sales enablement, mis, business operations, bu...    Bengaluru   \n",
       "19778  Driving, HCV, LCV, Commercial Vehicle, Structu...      Chennai   \n",
       "19779               High Frequency Trading, Trading Head          Pan   \n",
       "19780  Hive, Spark, Hadoop, Talend, Devops, Data Inte...    Hyderabad   \n",
       "19781  copy writing, Content Analysis, content resear...    Delhi NCR   \n",
       "19782  Financial Analysis, Credit Analysis, Finance, ...    Delhi NCR   \n",
       "19783                          nessus, splunk, wireshark       Mumbai   \n",
       "19784  NBFC, Interpersonal skills, Legal, Collection ...      Kolkata   \n",
       "19785  Estimation, Billing, Business Planning, Rate A...       Mumbai   \n",
       "19786  digital marketing, seo, email marketing, youtu...       Tier 2   \n",
       "19787  Finance, Accounting, Budgeting, Financial Anal...    Delhi NCR   \n",
       "19788  Sales, Marketing, Benefits, Cross Selling, Sal...      Chennai   \n",
       "19789  powershell, octopus, .net, continuous integrat...    Bengaluru   \n",
       "19790  student advisor, career advisor, enrollment ex...    Bengaluru   \n",
       "19791  Product Strategy, Project Management, Marketin...      Chennai   \n",
       "19792  HTML, Javascript, CSS, JQuery, JSON, Html5, My...    Delhi NCR   \n",
       "19793  java, selenium webdriver, sdet, python, contin...      Chennai   \n",
       "19794  Security Analytics, SIEM, Arcsight, QRadar, Sp...        Metro   \n",
       "19795  Lap, Credit Policy, HL, Credit Risk Management...  Maharashtra   \n",
       "19796                 HTML, XML, C, Communication Skills         Pune   \n",
       "19797  Medical Coding, ICD - 10, US Healthcare, RCM, ...    Hyderabad   \n",
       "19798  offline, online, part time, home base, work fr...        Metro   \n",
       "19799  SQL Server, VB.NET, C#, .Net, C#.Net, Oracle S...    Hyderabad   \n",
       "19800  accounting, internal audit, auditing, risk adv...         Pune   \n",
       "19801  IOS, XCode, Apple, Version Control, Perforce, ...    Hyderabad   \n",
       "\n",
       "       Avg_Salary  \n",
       "0             8.0  \n",
       "1            12.5  \n",
       "2            20.0  \n",
       "3            12.5  \n",
       "4             4.5  \n",
       "5             8.0  \n",
       "6            37.5  \n",
       "7             8.0  \n",
       "8             1.5  \n",
       "9            20.0  \n",
       "10            8.0  \n",
       "11           12.5  \n",
       "12           12.5  \n",
       "13            8.0  \n",
       "14           12.5  \n",
       "15           12.5  \n",
       "16            8.0  \n",
       "17           12.5  \n",
       "18           20.0  \n",
       "19            8.0  \n",
       "20            8.0  \n",
       "21           37.5  \n",
       "22           12.5  \n",
       "23            1.5  \n",
       "24            1.5  \n",
       "25           37.5  \n",
       "26            4.5  \n",
       "27            1.5  \n",
       "28            4.5  \n",
       "29           20.0  \n",
       "...           ...  \n",
       "19772         1.5  \n",
       "19773        37.5  \n",
       "19774        20.0  \n",
       "19775         1.5  \n",
       "19776         1.5  \n",
       "19777        37.5  \n",
       "19778        12.5  \n",
       "19779        37.5  \n",
       "19780        12.5  \n",
       "19781         8.0  \n",
       "19782         1.5  \n",
       "19783        12.5  \n",
       "19784        12.5  \n",
       "19785        12.5  \n",
       "19786         4.5  \n",
       "19787        20.0  \n",
       "19788         1.5  \n",
       "19789        12.5  \n",
       "19790         1.5  \n",
       "19791        20.0  \n",
       "19792        12.5  \n",
       "19793        12.5  \n",
       "19794        12.5  \n",
       "19795         4.5  \n",
       "19796         1.5  \n",
       "19797        20.0  \n",
       "19798         1.5  \n",
       "19799        20.0  \n",
       "19800        12.5  \n",
       "19801        12.5  \n",
       "\n",
       "[19802 rows x 4 columns]"
      ]
     },
     "execution_count": 10,
     "metadata": {},
     "output_type": "execute_result"
    }
   ],
   "source": [
    "train[['start','end']] = pd.DataFrame(train.Exp.values.tolist())\n",
    "train['Avg Exp'] = train[['start','end']].astype(float).mean(axis=1)\n",
    "train['Salary'] = train['salary'].str.split('to')\n",
    "train[['sal_start','sal_end']] = pd.DataFrame(train.Salary.values.tolist())\n",
    "train['Avg_Salary'] = train[['sal_start','sal_end']].astype(float).mean(axis=1)\n",
    "X = train[['job_desig', 'key_skills', 'City coded', 'Avg Exp', 'Avg_Salary']]\n",
    "X.drop(['Avg Exp'], axis=1)"
   ]
  },
  {
   "cell_type": "code",
   "execution_count": 11,
   "metadata": {},
   "outputs": [
    {
     "name": "stderr",
     "output_type": "stream",
     "text": [
      "C:\\Users\\Akhil\\Anaconda3\\lib\\site-packages\\ipykernel_launcher.py:1: SettingWithCopyWarning: \n",
      "A value is trying to be set on a copy of a slice from a DataFrame\n",
      "\n",
      "See the caveats in the documentation: http://pandas.pydata.org/pandas-docs/stable/indexing.html#indexing-view-versus-copy\n",
      "  \"\"\"Entry point for launching an IPython kernel.\n"
     ]
    }
   ],
   "source": [
    "X.dropna(subset=['key_skills'], inplace=True)"
   ]
  },
  {
   "cell_type": "code",
   "execution_count": 12,
   "metadata": {},
   "outputs": [
    {
     "data": {
      "text/plain": [
       "0"
      ]
     },
     "execution_count": 12,
     "metadata": {},
     "output_type": "execute_result"
    }
   ],
   "source": [
    "X.key_skills.isnull().sum()"
   ]
  },
  {
   "cell_type": "code",
   "execution_count": 13,
   "metadata": {},
   "outputs": [
    {
     "data": {
      "text/html": [
       "<div>\n",
       "<style scoped>\n",
       "    .dataframe tbody tr th:only-of-type {\n",
       "        vertical-align: middle;\n",
       "    }\n",
       "\n",
       "    .dataframe tbody tr th {\n",
       "        vertical-align: top;\n",
       "    }\n",
       "\n",
       "    .dataframe thead th {\n",
       "        text-align: right;\n",
       "    }\n",
       "</style>\n",
       "<table border=\"1\" class=\"dataframe\">\n",
       "  <thead>\n",
       "    <tr style=\"text-align: right;\">\n",
       "      <th></th>\n",
       "      <th>job_desig</th>\n",
       "      <th>key_skills</th>\n",
       "      <th>City coded</th>\n",
       "      <th>Avg Exp</th>\n",
       "      <th>Avg_Salary</th>\n",
       "    </tr>\n",
       "  </thead>\n",
       "  <tbody>\n",
       "    <tr>\n",
       "      <th>0</th>\n",
       "      <td>Senior Exploit and Vulnerability Researcher</td>\n",
       "      <td>team skills, communication skills, analytical ...</td>\n",
       "      <td>Delhi NCR</td>\n",
       "      <td>6.0</td>\n",
       "      <td>8.0</td>\n",
       "    </tr>\n",
       "    <tr>\n",
       "      <th>1</th>\n",
       "      <td>Head SCM</td>\n",
       "      <td>ppc, logistics, inventory management, supply c...</td>\n",
       "      <td>Tier 2</td>\n",
       "      <td>13.5</td>\n",
       "      <td>12.5</td>\n",
       "    </tr>\n",
       "    <tr>\n",
       "      <th>2</th>\n",
       "      <td>Deputy Manager - Talent Management &amp; Leadershi...</td>\n",
       "      <td>HR Analytics, Employee Engagement, Training, S...</td>\n",
       "      <td>Delhi NCR</td>\n",
       "      <td>7.0</td>\n",
       "      <td>20.0</td>\n",
       "    </tr>\n",
       "    <tr>\n",
       "      <th>3</th>\n",
       "      <td>Associate Manager Data Engineering</td>\n",
       "      <td>SQL, Javascript, Automation, Python, Ruby, Ana...</td>\n",
       "      <td>Bengaluru</td>\n",
       "      <td>8.5</td>\n",
       "      <td>12.5</td>\n",
       "    </tr>\n",
       "    <tr>\n",
       "      <th>4</th>\n",
       "      <td>TS- GSA- Senior Analyst</td>\n",
       "      <td>accounting, finance, cash flow, financial plan...</td>\n",
       "      <td>Delhi NCR</td>\n",
       "      <td>2.0</td>\n",
       "      <td>4.5</td>\n",
       "    </tr>\n",
       "  </tbody>\n",
       "</table>\n",
       "</div>"
      ],
      "text/plain": [
       "                                           job_desig  \\\n",
       "0        Senior Exploit and Vulnerability Researcher   \n",
       "1                                           Head SCM   \n",
       "2  Deputy Manager - Talent Management & Leadershi...   \n",
       "3                 Associate Manager Data Engineering   \n",
       "4                            TS- GSA- Senior Analyst   \n",
       "\n",
       "                                          key_skills City coded  Avg Exp  \\\n",
       "0  team skills, communication skills, analytical ...  Delhi NCR      6.0   \n",
       "1  ppc, logistics, inventory management, supply c...     Tier 2     13.5   \n",
       "2  HR Analytics, Employee Engagement, Training, S...  Delhi NCR      7.0   \n",
       "3  SQL, Javascript, Automation, Python, Ruby, Ana...  Bengaluru      8.5   \n",
       "4  accounting, finance, cash flow, financial plan...  Delhi NCR      2.0   \n",
       "\n",
       "   Avg_Salary  \n",
       "0         8.0  \n",
       "1        12.5  \n",
       "2        20.0  \n",
       "3        12.5  \n",
       "4         4.5  "
      ]
     },
     "execution_count": 13,
     "metadata": {},
     "output_type": "execute_result"
    }
   ],
   "source": [
    "X.head()"
   ]
  },
  {
   "cell_type": "code",
   "execution_count": 14,
   "metadata": {},
   "outputs": [
    {
     "name": "stderr",
     "output_type": "stream",
     "text": [
      "C:\\Users\\Akhil\\Anaconda3\\lib\\site-packages\\ipykernel_launcher.py:1: SettingWithCopyWarning: \n",
      "A value is trying to be set on a copy of a slice from a DataFrame.\n",
      "Try using .loc[row_indexer,col_indexer] = value instead\n",
      "\n",
      "See the caveats in the documentation: http://pandas.pydata.org/pandas-docs/stable/indexing.html#indexing-view-versus-copy\n",
      "  \"\"\"Entry point for launching an IPython kernel.\n",
      "C:\\Users\\Akhil\\Anaconda3\\lib\\site-packages\\ipykernel_launcher.py:2: SettingWithCopyWarning: \n",
      "A value is trying to be set on a copy of a slice from a DataFrame.\n",
      "Try using .loc[row_indexer,col_indexer] = value instead\n",
      "\n",
      "See the caveats in the documentation: http://pandas.pydata.org/pandas-docs/stable/indexing.html#indexing-view-versus-copy\n",
      "  \n"
     ]
    }
   ],
   "source": [
    "X['Avg_Exp'] = X['Avg Exp'].astype(int)\n",
    "X['Avg_Salary'] = X['Avg_Salary'].astype(int)\n",
    "X = X.drop(['Avg Exp'], axis=1)"
   ]
  },
  {
   "cell_type": "code",
   "execution_count": 15,
   "metadata": {},
   "outputs": [],
   "source": [
    "from sklearn.feature_extraction.text import CountVectorizer\n",
    "from sklearn.model_selection import train_test_split\n",
    "from sklearn.linear_model import LogisticRegression"
   ]
  },
  {
   "cell_type": "code",
   "execution_count": null,
   "metadata": {},
   "outputs": [],
   "source": [
    "cvec = CountVectorizer()\n",
    "X_jd = X.job_desig\n",
    "y_jd = X.Avg_Salary"
   ]
  },
  {
   "cell_type": "code",
   "execution_count": null,
   "metadata": {},
   "outputs": [],
   "source": [
    "X_train, X_test, y_train, y_test = train_test_split(X_jd, y_jd, test_size=0.33)"
   ]
  },
  {
   "cell_type": "code",
   "execution_count": null,
   "metadata": {},
   "outputs": [],
   "source": [
    "cvec = CountVectorizer(stop_words='english').fit(X_train)\n",
    "df_train = pd.DataFrame(cvec.transform(X_train).todense(),columns=cvec.get_feature_names())"
   ]
  },
  {
   "cell_type": "code",
   "execution_count": null,
   "metadata": {},
   "outputs": [],
   "source": [
    "df_test = pd.DataFrame(cvec.transform(X_test).todense(),columns=cvec.get_feature_names())"
   ]
  },
  {
   "cell_type": "code",
   "execution_count": null,
   "metadata": {},
   "outputs": [],
   "source": [
    "print(df_train.shape)\n",
    "print(y_train.shape)\n",
    "print(df_test.shape)\n",
    "print(y_test.shape)"
   ]
  },
  {
   "cell_type": "code",
   "execution_count": null,
   "metadata": {},
   "outputs": [],
   "source": [
    "lr = LogisticRegression()\n",
    "lr.fit(df_train, y_train)\n",
    "lr.score(df_test, y_test)"
   ]
  },
  {
   "cell_type": "code",
   "execution_count": null,
   "metadata": {},
   "outputs": [],
   "source": [
    "X_ks = X['key_skills']\n",
    "y_ks = X.Avg_Salary"
   ]
  },
  {
   "cell_type": "code",
   "execution_count": null,
   "metadata": {},
   "outputs": [],
   "source": [
    "X_train, X_test, y_train, y_test = train_test_split(X_ks, y_ks, test_size=0.33)"
   ]
  },
  {
   "cell_type": "code",
   "execution_count": null,
   "metadata": {},
   "outputs": [],
   "source": [
    "cvec = CountVectorizer(stop_words='english').fit(X_train)"
   ]
  },
  {
   "cell_type": "code",
   "execution_count": null,
   "metadata": {},
   "outputs": [],
   "source": [
    "ks_train = pd.DataFrame(cvec.transform(X_train).todense(),columns=cvec.get_feature_names())"
   ]
  },
  {
   "cell_type": "code",
   "execution_count": null,
   "metadata": {},
   "outputs": [],
   "source": [
    "ks_test = pd.DataFrame(cvec.transform(X_test).todense(),columns=cvec.get_feature_names())"
   ]
  },
  {
   "cell_type": "code",
   "execution_count": null,
   "metadata": {},
   "outputs": [],
   "source": [
    "lr = LogisticRegression()\n",
    "lr.fit(ks_train, y_train)\n",
    "lr.score(ks_test, y_test)"
   ]
  },
  {
   "cell_type": "code",
   "execution_count": null,
   "metadata": {},
   "outputs": [],
   "source": [
    "training = pd.concat([df_train,ks_train],axis=1)\n",
    "testing = pd.concat([df_test,ks_test],axis=1)"
   ]
  },
  {
   "cell_type": "code",
   "execution_count": null,
   "metadata": {},
   "outputs": [],
   "source": [
    "print (training.shape)\n",
    "print (testing.shape)\n",
    "print (y_train.shape)\n",
    "print (y_test.shape)"
   ]
  },
  {
   "cell_type": "code",
   "execution_count": null,
   "metadata": {},
   "outputs": [],
   "source": [
    "lr = LogisticRegression()\n",
    "lr.fit(training,y_train)\n",
    "lr.score(testing,y_test)"
   ]
  },
  {
   "cell_type": "code",
   "execution_count": null,
   "metadata": {},
   "outputs": [],
   "source": [
    "from xgboost import XGBRegressor"
   ]
  },
  {
   "cell_type": "code",
   "execution_count": null,
   "metadata": {},
   "outputs": [],
   "source": [
    "my_model_1 = XGBRegressor(random_state=0)"
   ]
  },
  {
   "cell_type": "code",
   "execution_count": null,
   "metadata": {},
   "outputs": [],
   "source": [
    "my_model_1.fit(df_train, y_train)"
   ]
  },
  {
   "cell_type": "code",
   "execution_count": null,
   "metadata": {},
   "outputs": [],
   "source": [
    "from sklearn.metrics import mean_absolute_error, r2_score"
   ]
  },
  {
   "cell_type": "code",
   "execution_count": null,
   "metadata": {},
   "outputs": [],
   "source": [
    "predictions_1 = my_model_1.predict(df_test)"
   ]
  },
  {
   "cell_type": "code",
   "execution_count": null,
   "metadata": {},
   "outputs": [],
   "source": [
    "mae_1 = mean_absolute_error(predictions_1, y_test)\n",
    "r2 = r2_score(predictions_1, y_test)"
   ]
  },
  {
   "cell_type": "code",
   "execution_count": null,
   "metadata": {},
   "outputs": [],
   "source": [
    "print(\"Mean Absolute Error:\" , mae_1)\n",
    "print(\"R2:\" , r2)"
   ]
  },
  {
   "cell_type": "code",
   "execution_count": null,
   "metadata": {},
   "outputs": [],
   "source": [
    "-------------------------------------------------------------------------------------------------------"
   ]
  },
  {
   "cell_type": "code",
   "execution_count": 16,
   "metadata": {},
   "outputs": [],
   "source": [
    "from sklearn.feature_extraction.text import CountVectorizer"
   ]
  },
  {
   "cell_type": "code",
   "execution_count": 17,
   "metadata": {},
   "outputs": [],
   "source": [
    "job_desig_transformer = CountVectorizer(stop_words=\"english\")\n",
    "job_desig_vectorized = job_desig_transformer.fit_transform(X['job_desig'])\n",
    "\n",
    "key_skills_transformer = CountVectorizer(stop_words=\"english\")\n",
    "key_skills_vectorized = key_skills_transformer.fit_transform(X['key_skills'])\n",
    "\n",
    "City_coded_transformer = CountVectorizer(stop_words=\"english\")\n",
    "City_coded_vectorized = City_coded_transformer.fit_transform(X['City coded'])\n"
   ]
  },
  {
   "cell_type": "code",
   "execution_count": 18,
   "metadata": {},
   "outputs": [],
   "source": [
    "import scipy.sparse as sp"
   ]
  },
  {
   "cell_type": "code",
   "execution_count": 19,
   "metadata": {},
   "outputs": [],
   "source": [
    "combined = sp.hstack([job_desig_vectorized, key_skills_vectorized, City_coded_vectorized], format='csr')"
   ]
  },
  {
   "cell_type": "code",
   "execution_count": 20,
   "metadata": {},
   "outputs": [
    {
     "data": {
      "text/plain": [
       "(19801, 9201)"
      ]
     },
     "execution_count": 20,
     "metadata": {},
     "output_type": "execute_result"
    }
   ],
   "source": [
    "combined.shape"
   ]
  },
  {
   "cell_type": "code",
   "execution_count": 21,
   "metadata": {},
   "outputs": [],
   "source": [
    "from sklearn.feature_extraction.text import TfidfTransformer"
   ]
  },
  {
   "cell_type": "code",
   "execution_count": 22,
   "metadata": {},
   "outputs": [],
   "source": [
    "tfidf = TfidfTransformer()\n",
    "X_train_tfidf = tfidf.fit_transform(combined)"
   ]
  },
  {
   "cell_type": "code",
   "execution_count": 23,
   "metadata": {},
   "outputs": [
    {
     "data": {
      "text/plain": [
       "0         8\n",
       "1        12\n",
       "2        20\n",
       "3        12\n",
       "4         4\n",
       "5         8\n",
       "6        37\n",
       "7         8\n",
       "8         1\n",
       "9        20\n",
       "10        8\n",
       "11       12\n",
       "12       12\n",
       "13        8\n",
       "14       12\n",
       "15       12\n",
       "16        8\n",
       "17       12\n",
       "18       20\n",
       "19        8\n",
       "20        8\n",
       "21       37\n",
       "22       12\n",
       "23        1\n",
       "24        1\n",
       "25       37\n",
       "26        4\n",
       "27        1\n",
       "28        4\n",
       "29       20\n",
       "         ..\n",
       "19772     1\n",
       "19773    37\n",
       "19774    20\n",
       "19775     1\n",
       "19776     1\n",
       "19777    37\n",
       "19778    12\n",
       "19779    37\n",
       "19780    12\n",
       "19781     8\n",
       "19782     1\n",
       "19783    12\n",
       "19784    12\n",
       "19785    12\n",
       "19786     4\n",
       "19787    20\n",
       "19788     1\n",
       "19789    12\n",
       "19790     1\n",
       "19791    20\n",
       "19792    12\n",
       "19793    12\n",
       "19794    12\n",
       "19795     4\n",
       "19796     1\n",
       "19797    20\n",
       "19798     1\n",
       "19799    20\n",
       "19800    12\n",
       "19801    12\n",
       "Name: Avg_Salary, Length: 19801, dtype: int32"
      ]
     },
     "execution_count": 23,
     "metadata": {},
     "output_type": "execute_result"
    }
   ],
   "source": [
    "X.Avg_Salary"
   ]
  },
  {
   "cell_type": "code",
   "execution_count": 24,
   "metadata": {},
   "outputs": [],
   "source": [
    "from sklearn.naive_bayes import MultinomialNB"
   ]
  },
  {
   "cell_type": "code",
   "execution_count": 25,
   "metadata": {},
   "outputs": [],
   "source": [
    "clf = MultinomialNB().fit(X_train_tfidf, X.Avg_Salary)"
   ]
  },
  {
   "cell_type": "code",
   "execution_count": 26,
   "metadata": {},
   "outputs": [
    {
     "data": {
      "text/plain": [
       "MultinomialNB(alpha=1.0, class_prior=None, fit_prior=True)"
      ]
     },
     "execution_count": 26,
     "metadata": {},
     "output_type": "execute_result"
    }
   ],
   "source": [
    "clf"
   ]
  },
  {
   "cell_type": "code",
   "execution_count": 27,
   "metadata": {},
   "outputs": [],
   "source": [
    "test = pd.read_csv(\"Test_Dataset.csv\")"
   ]
  },
  {
   "cell_type": "code",
   "execution_count": 28,
   "metadata": {},
   "outputs": [
    {
     "data": {
      "text/html": [
       "<div>\n",
       "<style scoped>\n",
       "    .dataframe tbody tr th:only-of-type {\n",
       "        vertical-align: middle;\n",
       "    }\n",
       "\n",
       "    .dataframe tbody tr th {\n",
       "        vertical-align: top;\n",
       "    }\n",
       "\n",
       "    .dataframe thead th {\n",
       "        text-align: right;\n",
       "    }\n",
       "</style>\n",
       "<table border=\"1\" class=\"dataframe\">\n",
       "  <thead>\n",
       "    <tr style=\"text-align: right;\">\n",
       "      <th></th>\n",
       "      <th>job_desig</th>\n",
       "      <th>key_skills</th>\n",
       "      <th>City coded</th>\n",
       "      <th>Avg_Salary</th>\n",
       "      <th>Avg_Exp</th>\n",
       "    </tr>\n",
       "  </thead>\n",
       "  <tbody>\n",
       "    <tr>\n",
       "      <th>0</th>\n",
       "      <td>Senior Exploit and Vulnerability Researcher</td>\n",
       "      <td>team skills, communication skills, analytical ...</td>\n",
       "      <td>Delhi NCR</td>\n",
       "      <td>8</td>\n",
       "      <td>6</td>\n",
       "    </tr>\n",
       "    <tr>\n",
       "      <th>1</th>\n",
       "      <td>Head SCM</td>\n",
       "      <td>ppc, logistics, inventory management, supply c...</td>\n",
       "      <td>Tier 2</td>\n",
       "      <td>12</td>\n",
       "      <td>13</td>\n",
       "    </tr>\n",
       "    <tr>\n",
       "      <th>2</th>\n",
       "      <td>Deputy Manager - Talent Management &amp; Leadershi...</td>\n",
       "      <td>HR Analytics, Employee Engagement, Training, S...</td>\n",
       "      <td>Delhi NCR</td>\n",
       "      <td>20</td>\n",
       "      <td>7</td>\n",
       "    </tr>\n",
       "    <tr>\n",
       "      <th>3</th>\n",
       "      <td>Associate Manager Data Engineering</td>\n",
       "      <td>SQL, Javascript, Automation, Python, Ruby, Ana...</td>\n",
       "      <td>Bengaluru</td>\n",
       "      <td>12</td>\n",
       "      <td>8</td>\n",
       "    </tr>\n",
       "    <tr>\n",
       "      <th>4</th>\n",
       "      <td>TS- GSA- Senior Analyst</td>\n",
       "      <td>accounting, finance, cash flow, financial plan...</td>\n",
       "      <td>Delhi NCR</td>\n",
       "      <td>4</td>\n",
       "      <td>2</td>\n",
       "    </tr>\n",
       "  </tbody>\n",
       "</table>\n",
       "</div>"
      ],
      "text/plain": [
       "                                           job_desig  \\\n",
       "0        Senior Exploit and Vulnerability Researcher   \n",
       "1                                           Head SCM   \n",
       "2  Deputy Manager - Talent Management & Leadershi...   \n",
       "3                 Associate Manager Data Engineering   \n",
       "4                            TS- GSA- Senior Analyst   \n",
       "\n",
       "                                          key_skills City coded  Avg_Salary  \\\n",
       "0  team skills, communication skills, analytical ...  Delhi NCR           8   \n",
       "1  ppc, logistics, inventory management, supply c...     Tier 2          12   \n",
       "2  HR Analytics, Employee Engagement, Training, S...  Delhi NCR          20   \n",
       "3  SQL, Javascript, Automation, Python, Ruby, Ana...  Bengaluru          12   \n",
       "4  accounting, finance, cash flow, financial plan...  Delhi NCR           4   \n",
       "\n",
       "   Avg_Exp  \n",
       "0        6  \n",
       "1       13  \n",
       "2        7  \n",
       "3        8  \n",
       "4        2  "
      ]
     },
     "execution_count": 28,
     "metadata": {},
     "output_type": "execute_result"
    }
   ],
   "source": [
    "X.head()"
   ]
  },
  {
   "cell_type": "code",
   "execution_count": 29,
   "metadata": {},
   "outputs": [],
   "source": [
    "test['City coded'] = test['location']"
   ]
  },
  {
   "cell_type": "code",
   "execution_count": 30,
   "metadata": {},
   "outputs": [],
   "source": [
    "test = test[['job_desig', 'key_skills', 'City coded']]"
   ]
  },
  {
   "cell_type": "code",
   "execution_count": 31,
   "metadata": {},
   "outputs": [
    {
     "data": {
      "text/html": [
       "<div>\n",
       "<style scoped>\n",
       "    .dataframe tbody tr th:only-of-type {\n",
       "        vertical-align: middle;\n",
       "    }\n",
       "\n",
       "    .dataframe tbody tr th {\n",
       "        vertical-align: top;\n",
       "    }\n",
       "\n",
       "    .dataframe thead th {\n",
       "        text-align: right;\n",
       "    }\n",
       "</style>\n",
       "<table border=\"1\" class=\"dataframe\">\n",
       "  <thead>\n",
       "    <tr style=\"text-align: right;\">\n",
       "      <th></th>\n",
       "      <th>job_desig</th>\n",
       "      <th>key_skills</th>\n",
       "      <th>City coded</th>\n",
       "    </tr>\n",
       "  </thead>\n",
       "  <tbody>\n",
       "    <tr>\n",
       "      <th>0</th>\n",
       "      <td>IT Technology Senior Consultant/java/ J2ee/ Se...</td>\n",
       "      <td>Java, J2Ee, Tomcat, JBoss, Weblogic, Oracle, E...</td>\n",
       "      <td>Bengaluru</td>\n",
       "    </tr>\n",
       "    <tr>\n",
       "      <th>1</th>\n",
       "      <td>Medical Billing Process | International KPO | ...</td>\n",
       "      <td>Medical Billing, Insurance Processing</td>\n",
       "      <td>Ahmedabad</td>\n",
       "    </tr>\n",
       "    <tr>\n",
       "      <th>2</th>\n",
       "      <td>Oracle Sales Cloud Functional Consultant</td>\n",
       "      <td>Oracle Sales, Functional Consultancy, Troubles...</td>\n",
       "      <td>Bengaluru</td>\n",
       "    </tr>\n",
       "    <tr>\n",
       "      <th>3</th>\n",
       "      <td>Looking For Freshers WHO WANT To Work WITH US</td>\n",
       "      <td>offline, online, internet, part time, home bas...</td>\n",
       "      <td>Metro</td>\n",
       "    </tr>\n",
       "    <tr>\n",
       "      <th>4</th>\n",
       "      <td>Process Associate / Sr Process Associate / Tec...</td>\n",
       "      <td>voice support, analytical skills, Process asso...</td>\n",
       "      <td>Hyderabad</td>\n",
       "    </tr>\n",
       "  </tbody>\n",
       "</table>\n",
       "</div>"
      ],
      "text/plain": [
       "                                           job_desig  \\\n",
       "0  IT Technology Senior Consultant/java/ J2ee/ Se...   \n",
       "1  Medical Billing Process | International KPO | ...   \n",
       "2           Oracle Sales Cloud Functional Consultant   \n",
       "3      Looking For Freshers WHO WANT To Work WITH US   \n",
       "4  Process Associate / Sr Process Associate / Tec...   \n",
       "\n",
       "                                          key_skills City coded  \n",
       "0  Java, J2Ee, Tomcat, JBoss, Weblogic, Oracle, E...  Bengaluru  \n",
       "1              Medical Billing, Insurance Processing  Ahmedabad  \n",
       "2  Oracle Sales, Functional Consultancy, Troubles...  Bengaluru  \n",
       "3  offline, online, internet, part time, home bas...      Metro  \n",
       "4  voice support, analytical skills, Process asso...  Hyderabad  "
      ]
     },
     "execution_count": 31,
     "metadata": {},
     "output_type": "execute_result"
    }
   ],
   "source": [
    "test.head()"
   ]
  },
  {
   "cell_type": "code",
   "execution_count": 32,
   "metadata": {},
   "outputs": [],
   "source": [
    "\n",
    "job_desig_vectorized_test = job_desig_transformer.transform(test['job_desig'])\n",
    "\n",
    "\n",
    "key_skills_vectorized_test = key_skills_transformer.transform(test['key_skills'])\n",
    "\n",
    "\n",
    "City_coded_vectorized_test = City_coded_transformer.transform(test['City coded'])"
   ]
  },
  {
   "cell_type": "code",
   "execution_count": 33,
   "metadata": {},
   "outputs": [],
   "source": [
    "combined_test = sp.hstack([job_desig_vectorized_test, key_skills_vectorized_test, City_coded_vectorized_test], format='csr')"
   ]
  },
  {
   "cell_type": "code",
   "execution_count": 34,
   "metadata": {},
   "outputs": [
    {
     "data": {
      "text/plain": [
       "(6601, 9201)"
      ]
     },
     "execution_count": 34,
     "metadata": {},
     "output_type": "execute_result"
    }
   ],
   "source": [
    "combined_test.shape"
   ]
  },
  {
   "cell_type": "code",
   "execution_count": 35,
   "metadata": {},
   "outputs": [],
   "source": [
    "X_test_tfidf = tfidf.transform(combined_test)"
   ]
  },
  {
   "cell_type": "code",
   "execution_count": 36,
   "metadata": {},
   "outputs": [
    {
     "data": {
      "text/plain": [
       "<6601x9201 sparse matrix of type '<class 'numpy.float64'>'\n",
       "\twith 83953 stored elements in Compressed Sparse Row format>"
      ]
     },
     "execution_count": 36,
     "metadata": {},
     "output_type": "execute_result"
    }
   ],
   "source": [
    "X_test_tfidf"
   ]
  },
  {
   "cell_type": "code",
   "execution_count": 37,
   "metadata": {},
   "outputs": [],
   "source": [
    "predicted = clf.predict(X_test_tfidf)"
   ]
  },
  {
   "cell_type": "code",
   "execution_count": 38,
   "metadata": {},
   "outputs": [
    {
     "data": {
      "text/plain": [
       "array([20,  1, 12,  1,  1, 12, 12,  4, 12,  1, 12, 12, 20, 20, 12, 12,  1,\n",
       "        1, 12, 12])"
      ]
     },
     "execution_count": 38,
     "metadata": {},
     "output_type": "execute_result"
    }
   ],
   "source": [
    "predicted[:20]"
   ]
  },
  {
   "cell_type": "code",
   "execution_count": null,
   "metadata": {},
   "outputs": [],
   "source": [
    "----------------------------------------------------------------------------------------------------------------------------"
   ]
  },
  {
   "cell_type": "code",
   "execution_count": null,
   "metadata": {},
   "outputs": [],
   "source": [
    "training = pd.concat([df_train,ks_train],axis=1)\n",
    "testing = pd.concat([df_test,ks_test],axis=1)\n",
    "print(testing.head())\n"
   ]
  },
  {
   "cell_type": "code",
   "execution_count": null,
   "metadata": {},
   "outputs": [],
   "source": [
    "from sklearn.naive_bayes import MultinomialNB\n",
    "clf = MultinomialNB().fit(training, y_train)"
   ]
  },
  {
   "cell_type": "code",
   "execution_count": null,
   "metadata": {},
   "outputs": [],
   "source": [
    "predicted = clf.predict(testing)"
   ]
  },
  {
   "cell_type": "code",
   "execution_count": null,
   "metadata": {},
   "outputs": [],
   "source": [
    "from sklearn.metrics import accuracy_score"
   ]
  },
  {
   "cell_type": "code",
   "execution_count": null,
   "metadata": {},
   "outputs": [],
   "source": [
    "accuracy_score(y_test, predicted)"
   ]
  },
  {
   "cell_type": "code",
   "execution_count": null,
   "metadata": {},
   "outputs": [],
   "source": []
  }
 ],
 "metadata": {
  "kernelspec": {
   "display_name": "Python 3",
   "language": "python",
   "name": "python3"
  },
  "language_info": {
   "codemirror_mode": {
    "name": "ipython",
    "version": 3
   },
   "file_extension": ".py",
   "mimetype": "text/x-python",
   "name": "python",
   "nbconvert_exporter": "python",
   "pygments_lexer": "ipython3",
   "version": "3.7.1"
  }
 },
 "nbformat": 4,
 "nbformat_minor": 2
}
