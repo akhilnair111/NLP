{
 "cells": [
  {
   "cell_type": "code",
   "execution_count": 2,
   "metadata": {},
   "outputs": [],
   "source": [
    "import os\n",
    "import pandas as pd\n",
    "import numpy as np\n",
    "os.chdir(\"C:/Users/Sanket/Downloads\")\n",
    "train = pd.read_csv(\"Train_Dataset.csv\")\n",
    "test = pd.read_csv(\"Test_Dataset.csv\")"
   ]
  },
  {
   "cell_type": "code",
   "execution_count": 3,
   "metadata": {},
   "outputs": [
    {
     "data": {
      "text/html": [
       "<div>\n",
       "<style scoped>\n",
       "    .dataframe tbody tr th:only-of-type {\n",
       "        vertical-align: middle;\n",
       "    }\n",
       "\n",
       "    .dataframe tbody tr th {\n",
       "        vertical-align: top;\n",
       "    }\n",
       "\n",
       "    .dataframe thead th {\n",
       "        text-align: right;\n",
       "    }\n",
       "</style>\n",
       "<table border=\"1\" class=\"dataframe\">\n",
       "  <thead>\n",
       "    <tr style=\"text-align: right;\">\n",
       "      <th></th>\n",
       "      <th>Sr no</th>\n",
       "      <th>experience</th>\n",
       "      <th>job_description</th>\n",
       "      <th>job_desig</th>\n",
       "      <th>job_type</th>\n",
       "      <th>key_skills</th>\n",
       "      <th>City coded</th>\n",
       "      <th>company_name_encoded</th>\n",
       "      <th>salary</th>\n",
       "    </tr>\n",
       "  </thead>\n",
       "  <tbody>\n",
       "    <tr>\n",
       "      <th>0</th>\n",
       "      <td>0</td>\n",
       "      <td>5-7 yrs</td>\n",
       "      <td>Exp: Minimum 5 years;Good understanding of IOC...</td>\n",
       "      <td>Senior Exploit and Vulnerability Researcher</td>\n",
       "      <td>NaN</td>\n",
       "      <td>team skills, communication skills, analytical ...</td>\n",
       "      <td>Delhi NCR</td>\n",
       "      <td>3687</td>\n",
       "      <td>6to10</td>\n",
       "    </tr>\n",
       "    <tr>\n",
       "      <th>1</th>\n",
       "      <td>1</td>\n",
       "      <td>10-17 yrs</td>\n",
       "      <td>He should have handled a team of atleast 5-6 d...</td>\n",
       "      <td>Head SCM</td>\n",
       "      <td>NaN</td>\n",
       "      <td>ppc, logistics, inventory management, supply c...</td>\n",
       "      <td>Tier 2</td>\n",
       "      <td>458</td>\n",
       "      <td>10to15</td>\n",
       "    </tr>\n",
       "    <tr>\n",
       "      <th>2</th>\n",
       "      <td>2</td>\n",
       "      <td>5-9 yrs</td>\n",
       "      <td>Must be an effective communicator (written &amp; s...</td>\n",
       "      <td>Deputy Manager - Talent Management &amp; Leadershi...</td>\n",
       "      <td>Analytics</td>\n",
       "      <td>HR Analytics, Employee Engagement, Training, S...</td>\n",
       "      <td>Delhi NCR</td>\n",
       "      <td>4195</td>\n",
       "      <td>15to25</td>\n",
       "    </tr>\n",
       "    <tr>\n",
       "      <th>3</th>\n",
       "      <td>3</td>\n",
       "      <td>7-10 yrs</td>\n",
       "      <td>7  -  10 years of overall experience in data e...</td>\n",
       "      <td>Associate Manager Data Engineering</td>\n",
       "      <td>Analytics</td>\n",
       "      <td>SQL, Javascript, Automation, Python, Ruby, Ana...</td>\n",
       "      <td>Bengaluru</td>\n",
       "      <td>313</td>\n",
       "      <td>10to15</td>\n",
       "    </tr>\n",
       "    <tr>\n",
       "      <th>4</th>\n",
       "      <td>4</td>\n",
       "      <td>1-3 yrs</td>\n",
       "      <td>Chartered Accountancy degree or MBA in Finance...</td>\n",
       "      <td>TS- GSA- Senior Analyst</td>\n",
       "      <td>NaN</td>\n",
       "      <td>accounting, finance, cash flow, financial plan...</td>\n",
       "      <td>Delhi NCR</td>\n",
       "      <td>1305</td>\n",
       "      <td>3to6</td>\n",
       "    </tr>\n",
       "  </tbody>\n",
       "</table>\n",
       "</div>"
      ],
      "text/plain": [
       "   Sr no experience                                    job_description  \\\n",
       "0      0    5-7 yrs  Exp: Minimum 5 years;Good understanding of IOC...   \n",
       "1      1  10-17 yrs  He should have handled a team of atleast 5-6 d...   \n",
       "2      2    5-9 yrs  Must be an effective communicator (written & s...   \n",
       "3      3   7-10 yrs  7  -  10 years of overall experience in data e...   \n",
       "4      4    1-3 yrs  Chartered Accountancy degree or MBA in Finance...   \n",
       "\n",
       "                                           job_desig   job_type  \\\n",
       "0        Senior Exploit and Vulnerability Researcher        NaN   \n",
       "1                                           Head SCM        NaN   \n",
       "2  Deputy Manager - Talent Management & Leadershi...  Analytics   \n",
       "3                 Associate Manager Data Engineering  Analytics   \n",
       "4                            TS- GSA- Senior Analyst        NaN   \n",
       "\n",
       "                                          key_skills City coded  \\\n",
       "0  team skills, communication skills, analytical ...  Delhi NCR   \n",
       "1  ppc, logistics, inventory management, supply c...     Tier 2   \n",
       "2  HR Analytics, Employee Engagement, Training, S...  Delhi NCR   \n",
       "3  SQL, Javascript, Automation, Python, Ruby, Ana...  Bengaluru   \n",
       "4  accounting, finance, cash flow, financial plan...  Delhi NCR   \n",
       "\n",
       "   company_name_encoded  salary  \n",
       "0                  3687   6to10  \n",
       "1                   458  10to15  \n",
       "2                  4195  15to25  \n",
       "3                   313  10to15  \n",
       "4                  1305    3to6  "
      ]
     },
     "execution_count": 3,
     "metadata": {},
     "output_type": "execute_result"
    }
   ],
   "source": [
    "train.head()"
   ]
  },
  {
   "cell_type": "code",
   "execution_count": 4,
   "metadata": {},
   "outputs": [
    {
     "name": "stderr",
     "output_type": "stream",
     "text": [
      "C:\\Users\\Akhil\\Anaconda3\\lib\\site-packages\\ipykernel_launcher.py:9: SettingWithCopyWarning: \n",
      "A value is trying to be set on a copy of a slice from a DataFrame\n",
      "\n",
      "See the caveats in the documentation: http://pandas.pydata.org/pandas-docs/stable/indexing.html#indexing-view-versus-copy\n",
      "  if __name__ == '__main__':\n",
      "C:\\Users\\Akhil\\Anaconda3\\lib\\site-packages\\ipykernel_launcher.py:10: SettingWithCopyWarning: \n",
      "A value is trying to be set on a copy of a slice from a DataFrame.\n",
      "Try using .loc[row_indexer,col_indexer] = value instead\n",
      "\n",
      "See the caveats in the documentation: http://pandas.pydata.org/pandas-docs/stable/indexing.html#indexing-view-versus-copy\n",
      "  # Remove the CWD from sys.path while we load stuff.\n",
      "C:\\Users\\Akhil\\Anaconda3\\lib\\site-packages\\ipykernel_launcher.py:11: SettingWithCopyWarning: \n",
      "A value is trying to be set on a copy of a slice from a DataFrame.\n",
      "Try using .loc[row_indexer,col_indexer] = value instead\n",
      "\n",
      "See the caveats in the documentation: http://pandas.pydata.org/pandas-docs/stable/indexing.html#indexing-view-versus-copy\n",
      "  # This is added back by InteractiveShellApp.init_path()\n"
     ]
    }
   ],
   "source": [
    "train['Exp'] = train[\"experience\"].str.extract(\"(\\d*\\d.?\\d+)\", expand=True)\n",
    "train['Exp'] = train['Exp'].str.split('-')\n",
    "train[['start','end']] = pd.DataFrame(train.Exp.values.tolist())\n",
    "train['Avg Exp'] = train[['start','end']].astype(float).mean(axis=1)\n",
    "train['Salary'] = train['salary'].str.split('to')\n",
    "train[['sal_start','sal_end']] = pd.DataFrame(train.Salary.values.tolist())\n",
    "train['Avg_Salary'] = train[['sal_start','sal_end']].astype(float).mean(axis=1)\n",
    "X = train[['job_desig', 'key_skills', 'City coded', 'Avg Exp', 'Avg_Salary']]\n",
    "X.dropna(subset=['key_skills'], inplace=True)\n",
    "X['Avg_Exp'] = X['Avg Exp'].astype(int)\n",
    "X['Avg_Salary'] = X['Avg_Salary'].astype(int)\n",
    "X = X.drop(['Avg Exp'], axis=1)\n",
    "\n",
    "Xtraining = X[['job_desig', 'key_skills', 'City coded', 'Avg_Exp']]\n",
    "ytraining = X[['Avg_Salary']]\n"
   ]
  },
  {
   "cell_type": "code",
   "execution_count": 5,
   "metadata": {},
   "outputs": [
    {
     "data": {
      "text/html": [
       "<div>\n",
       "<style scoped>\n",
       "    .dataframe tbody tr th:only-of-type {\n",
       "        vertical-align: middle;\n",
       "    }\n",
       "\n",
       "    .dataframe tbody tr th {\n",
       "        vertical-align: top;\n",
       "    }\n",
       "\n",
       "    .dataframe thead th {\n",
       "        text-align: right;\n",
       "    }\n",
       "</style>\n",
       "<table border=\"1\" class=\"dataframe\">\n",
       "  <thead>\n",
       "    <tr style=\"text-align: right;\">\n",
       "      <th></th>\n",
       "      <th>job_desig</th>\n",
       "      <th>key_skills</th>\n",
       "      <th>City coded</th>\n",
       "      <th>Avg_Salary</th>\n",
       "      <th>Avg_Exp</th>\n",
       "    </tr>\n",
       "  </thead>\n",
       "  <tbody>\n",
       "    <tr>\n",
       "      <th>0</th>\n",
       "      <td>Senior Exploit and Vulnerability Researcher</td>\n",
       "      <td>team skills, communication skills, analytical ...</td>\n",
       "      <td>Delhi NCR</td>\n",
       "      <td>8</td>\n",
       "      <td>6</td>\n",
       "    </tr>\n",
       "    <tr>\n",
       "      <th>1</th>\n",
       "      <td>Head SCM</td>\n",
       "      <td>ppc, logistics, inventory management, supply c...</td>\n",
       "      <td>Tier 2</td>\n",
       "      <td>12</td>\n",
       "      <td>13</td>\n",
       "    </tr>\n",
       "    <tr>\n",
       "      <th>2</th>\n",
       "      <td>Deputy Manager - Talent Management &amp; Leadershi...</td>\n",
       "      <td>HR Analytics, Employee Engagement, Training, S...</td>\n",
       "      <td>Delhi NCR</td>\n",
       "      <td>20</td>\n",
       "      <td>7</td>\n",
       "    </tr>\n",
       "    <tr>\n",
       "      <th>3</th>\n",
       "      <td>Associate Manager Data Engineering</td>\n",
       "      <td>SQL, Javascript, Automation, Python, Ruby, Ana...</td>\n",
       "      <td>Bengaluru</td>\n",
       "      <td>12</td>\n",
       "      <td>8</td>\n",
       "    </tr>\n",
       "    <tr>\n",
       "      <th>4</th>\n",
       "      <td>TS- GSA- Senior Analyst</td>\n",
       "      <td>accounting, finance, cash flow, financial plan...</td>\n",
       "      <td>Delhi NCR</td>\n",
       "      <td>4</td>\n",
       "      <td>2</td>\n",
       "    </tr>\n",
       "  </tbody>\n",
       "</table>\n",
       "</div>"
      ],
      "text/plain": [
       "                                           job_desig  \\\n",
       "0        Senior Exploit and Vulnerability Researcher   \n",
       "1                                           Head SCM   \n",
       "2  Deputy Manager - Talent Management & Leadershi...   \n",
       "3                 Associate Manager Data Engineering   \n",
       "4                            TS- GSA- Senior Analyst   \n",
       "\n",
       "                                          key_skills City coded  Avg_Salary  \\\n",
       "0  team skills, communication skills, analytical ...  Delhi NCR           8   \n",
       "1  ppc, logistics, inventory management, supply c...     Tier 2          12   \n",
       "2  HR Analytics, Employee Engagement, Training, S...  Delhi NCR          20   \n",
       "3  SQL, Javascript, Automation, Python, Ruby, Ana...  Bengaluru          12   \n",
       "4  accounting, finance, cash flow, financial plan...  Delhi NCR           4   \n",
       "\n",
       "   Avg_Exp  \n",
       "0        6  \n",
       "1       13  \n",
       "2        7  \n",
       "3        8  \n",
       "4        2  "
      ]
     },
     "execution_count": 5,
     "metadata": {},
     "output_type": "execute_result"
    }
   ],
   "source": [
    "X.head()"
   ]
  },
  {
   "cell_type": "code",
   "execution_count": 6,
   "metadata": {},
   "outputs": [
    {
     "data": {
      "text/html": [
       "<div>\n",
       "<style scoped>\n",
       "    .dataframe tbody tr th:only-of-type {\n",
       "        vertical-align: middle;\n",
       "    }\n",
       "\n",
       "    .dataframe tbody tr th {\n",
       "        vertical-align: top;\n",
       "    }\n",
       "\n",
       "    .dataframe thead th {\n",
       "        text-align: right;\n",
       "    }\n",
       "</style>\n",
       "<table border=\"1\" class=\"dataframe\">\n",
       "  <thead>\n",
       "    <tr style=\"text-align: right;\">\n",
       "      <th></th>\n",
       "      <th>Sr no</th>\n",
       "      <th>experience</th>\n",
       "      <th>job_description</th>\n",
       "      <th>job_desig</th>\n",
       "      <th>job_type</th>\n",
       "      <th>key_skills</th>\n",
       "      <th>location</th>\n",
       "      <th>company_name_encoded</th>\n",
       "    </tr>\n",
       "  </thead>\n",
       "  <tbody>\n",
       "    <tr>\n",
       "      <th>0</th>\n",
       "      <td>1</td>\n",
       "      <td>7-12 yrs</td>\n",
       "      <td>Professional experience in Java/J2EE based ser...</td>\n",
       "      <td>IT Technology Senior Consultant/java/ J2ee/ Se...</td>\n",
       "      <td>NaN</td>\n",
       "      <td>Java, J2Ee, Tomcat, JBoss, Weblogic, Oracle, E...</td>\n",
       "      <td>Bengaluru</td>\n",
       "      <td>2066</td>\n",
       "    </tr>\n",
       "    <tr>\n",
       "      <th>1</th>\n",
       "      <td>2</td>\n",
       "      <td>0-5 yrs</td>\n",
       "      <td>We are looking for 20+ Fresher/Experienced Can...</td>\n",
       "      <td>Medical Billing Process | International KPO | ...</td>\n",
       "      <td>NaN</td>\n",
       "      <td>Medical Billing, Insurance Processing</td>\n",
       "      <td>Ahmedabad</td>\n",
       "      <td>2629</td>\n",
       "    </tr>\n",
       "    <tr>\n",
       "      <th>2</th>\n",
       "      <td>3</td>\n",
       "      <td>3-6 yrs</td>\n",
       "      <td>Should understand overall integration framewor...</td>\n",
       "      <td>Oracle Sales Cloud Functional Consultant</td>\n",
       "      <td>NaN</td>\n",
       "      <td>Oracle Sales, Functional Consultancy, Troubles...</td>\n",
       "      <td>Bengaluru</td>\n",
       "      <td>2448</td>\n",
       "    </tr>\n",
       "    <tr>\n",
       "      <th>3</th>\n",
       "      <td>4</td>\n",
       "      <td>0-3 yrs</td>\n",
       "      <td>NaN</td>\n",
       "      <td>Looking For Freshers WHO WANT To Work WITH US</td>\n",
       "      <td>NaN</td>\n",
       "      <td>offline, online, internet, part time, home bas...</td>\n",
       "      <td>Metro</td>\n",
       "      <td>2711</td>\n",
       "    </tr>\n",
       "    <tr>\n",
       "      <th>4</th>\n",
       "      <td>5</td>\n",
       "      <td>0-5 yrs</td>\n",
       "      <td>NaN</td>\n",
       "      <td>Process Associate / Sr Process Associate / Tec...</td>\n",
       "      <td>NaN</td>\n",
       "      <td>voice support, analytical skills, Process asso...</td>\n",
       "      <td>Hyderabad</td>\n",
       "      <td>40</td>\n",
       "    </tr>\n",
       "  </tbody>\n",
       "</table>\n",
       "</div>"
      ],
      "text/plain": [
       "   Sr no experience                                    job_description  \\\n",
       "0      1   7-12 yrs  Professional experience in Java/J2EE based ser...   \n",
       "1      2    0-5 yrs  We are looking for 20+ Fresher/Experienced Can...   \n",
       "2      3    3-6 yrs  Should understand overall integration framewor...   \n",
       "3      4    0-3 yrs                                                NaN   \n",
       "4      5    0-5 yrs                                                NaN   \n",
       "\n",
       "                                           job_desig job_type  \\\n",
       "0  IT Technology Senior Consultant/java/ J2ee/ Se...      NaN   \n",
       "1  Medical Billing Process | International KPO | ...      NaN   \n",
       "2           Oracle Sales Cloud Functional Consultant      NaN   \n",
       "3      Looking For Freshers WHO WANT To Work WITH US      NaN   \n",
       "4  Process Associate / Sr Process Associate / Tec...      NaN   \n",
       "\n",
       "                                          key_skills   location  \\\n",
       "0  Java, J2Ee, Tomcat, JBoss, Weblogic, Oracle, E...  Bengaluru   \n",
       "1              Medical Billing, Insurance Processing  Ahmedabad   \n",
       "2  Oracle Sales, Functional Consultancy, Troubles...  Bengaluru   \n",
       "3  offline, online, internet, part time, home bas...      Metro   \n",
       "4  voice support, analytical skills, Process asso...  Hyderabad   \n",
       "\n",
       "   company_name_encoded  \n",
       "0                  2066  \n",
       "1                  2629  \n",
       "2                  2448  \n",
       "3                  2711  \n",
       "4                    40  "
      ]
     },
     "execution_count": 6,
     "metadata": {},
     "output_type": "execute_result"
    }
   ],
   "source": [
    "test.head()"
   ]
  },
  {
   "cell_type": "code",
   "execution_count": 7,
   "metadata": {},
   "outputs": [
    {
     "name": "stderr",
     "output_type": "stream",
     "text": [
      "C:\\Users\\Akhil\\Anaconda3\\lib\\site-packages\\ipykernel_launcher.py:7: SettingWithCopyWarning: \n",
      "A value is trying to be set on a copy of a slice from a DataFrame.\n",
      "Try using .loc[row_indexer,col_indexer] = value instead\n",
      "\n",
      "See the caveats in the documentation: http://pandas.pydata.org/pandas-docs/stable/indexing.html#indexing-view-versus-copy\n",
      "  import sys\n"
     ]
    },
    {
     "data": {
      "text/html": [
       "<div>\n",
       "<style scoped>\n",
       "    .dataframe tbody tr th:only-of-type {\n",
       "        vertical-align: middle;\n",
       "    }\n",
       "\n",
       "    .dataframe tbody tr th {\n",
       "        vertical-align: top;\n",
       "    }\n",
       "\n",
       "    .dataframe thead th {\n",
       "        text-align: right;\n",
       "    }\n",
       "</style>\n",
       "<table border=\"1\" class=\"dataframe\">\n",
       "  <thead>\n",
       "    <tr style=\"text-align: right;\">\n",
       "      <th></th>\n",
       "      <th>job_desig</th>\n",
       "      <th>key_skills</th>\n",
       "      <th>City coded</th>\n",
       "      <th>Avg_Exp</th>\n",
       "    </tr>\n",
       "  </thead>\n",
       "  <tbody>\n",
       "    <tr>\n",
       "      <th>0</th>\n",
       "      <td>IT Technology Senior Consultant/java/ J2ee/ Se...</td>\n",
       "      <td>Java, J2Ee, Tomcat, JBoss, Weblogic, Oracle, E...</td>\n",
       "      <td>Bengaluru</td>\n",
       "      <td>9</td>\n",
       "    </tr>\n",
       "    <tr>\n",
       "      <th>1</th>\n",
       "      <td>Medical Billing Process | International KPO | ...</td>\n",
       "      <td>Medical Billing, Insurance Processing</td>\n",
       "      <td>Ahmedabad</td>\n",
       "      <td>2</td>\n",
       "    </tr>\n",
       "    <tr>\n",
       "      <th>2</th>\n",
       "      <td>Oracle Sales Cloud Functional Consultant</td>\n",
       "      <td>Oracle Sales, Functional Consultancy, Troubles...</td>\n",
       "      <td>Bengaluru</td>\n",
       "      <td>4</td>\n",
       "    </tr>\n",
       "    <tr>\n",
       "      <th>3</th>\n",
       "      <td>Looking For Freshers WHO WANT To Work WITH US</td>\n",
       "      <td>offline, online, internet, part time, home bas...</td>\n",
       "      <td>Metro</td>\n",
       "      <td>1</td>\n",
       "    </tr>\n",
       "    <tr>\n",
       "      <th>4</th>\n",
       "      <td>Process Associate / Sr Process Associate / Tec...</td>\n",
       "      <td>voice support, analytical skills, Process asso...</td>\n",
       "      <td>Hyderabad</td>\n",
       "      <td>2</td>\n",
       "    </tr>\n",
       "  </tbody>\n",
       "</table>\n",
       "</div>"
      ],
      "text/plain": [
       "                                           job_desig  \\\n",
       "0  IT Technology Senior Consultant/java/ J2ee/ Se...   \n",
       "1  Medical Billing Process | International KPO | ...   \n",
       "2           Oracle Sales Cloud Functional Consultant   \n",
       "3      Looking For Freshers WHO WANT To Work WITH US   \n",
       "4  Process Associate / Sr Process Associate / Tec...   \n",
       "\n",
       "                                          key_skills City coded  Avg_Exp  \n",
       "0  Java, J2Ee, Tomcat, JBoss, Weblogic, Oracle, E...  Bengaluru        9  \n",
       "1              Medical Billing, Insurance Processing  Ahmedabad        2  \n",
       "2  Oracle Sales, Functional Consultancy, Troubles...  Bengaluru        4  \n",
       "3  offline, online, internet, part time, home bas...      Metro        1  \n",
       "4  voice support, analytical skills, Process asso...  Hyderabad        2  "
      ]
     },
     "execution_count": 7,
     "metadata": {},
     "output_type": "execute_result"
    }
   ],
   "source": [
    "test['Exp'] = test[\"experience\"].str.extract(\"(\\d*\\d.?\\d+)\", expand=True)\n",
    "test['Exp'] = test['Exp'].str.split('-')\n",
    "test[['start','end']] = pd.DataFrame(test.Exp.values.tolist())\n",
    "test['Avg Exp'] = test[['start','end']].astype(float).mean(axis=1)\n",
    "test['City coded']=test['location']\n",
    "X2 = test[['job_desig', 'key_skills', 'City coded', 'Avg Exp']]\n",
    "X2['Avg_Exp'] = X2['Avg Exp'].astype(int)\n",
    "X2 = X2.drop(['Avg Exp'], axis=1)\n",
    "X2.head()"
   ]
  },
  {
   "cell_type": "code",
   "execution_count": 41,
   "metadata": {},
   "outputs": [],
   "source": [
    "from sklearn.feature_extraction.text import CountVectorizer"
   ]
  },
  {
   "cell_type": "code",
   "execution_count": 42,
   "metadata": {},
   "outputs": [],
   "source": [
    "job_desig_transformer = CountVectorizer(stop_words=\"english\")\n",
    "job_desig_vectorized = job_desig_transformer.fit_transform(X['job_desig'])\n",
    "\n",
    "key_skills_transformer = CountVectorizer(stop_words=\"english\")\n",
    "key_skills_vectorized = key_skills_transformer.fit_transform(X['key_skills'])\n",
    "\n",
    "City_coded_transformer = CountVectorizer(stop_words=\"english\")\n",
    "City_coded_vectorized = City_coded_transformer.fit_transform(X['City coded'])"
   ]
  },
  {
   "cell_type": "code",
   "execution_count": 43,
   "metadata": {},
   "outputs": [],
   "source": [
    "import scipy.sparse as sp"
   ]
  },
  {
   "cell_type": "code",
   "execution_count": 44,
   "metadata": {},
   "outputs": [],
   "source": [
    "combined = sp.hstack([job_desig_vectorized, key_skills_vectorized, City_coded_vectorized], format='csr')"
   ]
  },
  {
   "cell_type": "code",
   "execution_count": 45,
   "metadata": {},
   "outputs": [
    {
     "data": {
      "text/plain": [
       "(19801, 9201)"
      ]
     },
     "execution_count": 45,
     "metadata": {},
     "output_type": "execute_result"
    }
   ],
   "source": [
    "combined.shape"
   ]
  },
  {
   "cell_type": "code",
   "execution_count": 46,
   "metadata": {},
   "outputs": [],
   "source": [
    "from sklearn.feature_extraction.text import TfidfTransformer"
   ]
  },
  {
   "cell_type": "code",
   "execution_count": 47,
   "metadata": {},
   "outputs": [],
   "source": [
    "tfidf = TfidfTransformer()\n",
    "X_train_tfidf = tfidf.fit_transform(combined)"
   ]
  },
  {
   "cell_type": "code",
   "execution_count": 48,
   "metadata": {},
   "outputs": [
    {
     "data": {
      "text/plain": [
       "0         8\n",
       "1        12\n",
       "2        20\n",
       "3        12\n",
       "4         4\n",
       "5         8\n",
       "6        37\n",
       "7         8\n",
       "8         1\n",
       "9        20\n",
       "10        8\n",
       "11       12\n",
       "12       12\n",
       "13        8\n",
       "14       12\n",
       "15       12\n",
       "16        8\n",
       "17       12\n",
       "18       20\n",
       "19        8\n",
       "20        8\n",
       "21       37\n",
       "22       12\n",
       "23        1\n",
       "24        1\n",
       "25       37\n",
       "26        4\n",
       "27        1\n",
       "28        4\n",
       "29       20\n",
       "         ..\n",
       "19772     1\n",
       "19773    37\n",
       "19774    20\n",
       "19775     1\n",
       "19776     1\n",
       "19777    37\n",
       "19778    12\n",
       "19779    37\n",
       "19780    12\n",
       "19781     8\n",
       "19782     1\n",
       "19783    12\n",
       "19784    12\n",
       "19785    12\n",
       "19786     4\n",
       "19787    20\n",
       "19788     1\n",
       "19789    12\n",
       "19790     1\n",
       "19791    20\n",
       "19792    12\n",
       "19793    12\n",
       "19794    12\n",
       "19795     4\n",
       "19796     1\n",
       "19797    20\n",
       "19798     1\n",
       "19799    20\n",
       "19800    12\n",
       "19801    12\n",
       "Name: Avg_Salary, Length: 19801, dtype: int32"
      ]
     },
     "execution_count": 48,
     "metadata": {},
     "output_type": "execute_result"
    }
   ],
   "source": [
    "X.Avg_Salary"
   ]
  },
  {
   "cell_type": "code",
   "execution_count": 49,
   "metadata": {},
   "outputs": [],
   "source": [
    "from sklearn.naive_bayes import MultinomialNB"
   ]
  },
  {
   "cell_type": "code",
   "execution_count": 50,
   "metadata": {},
   "outputs": [],
   "source": [
    "clf = MultinomialNB().fit(X_train_tfidf, X.Avg_Salary)"
   ]
  },
  {
   "cell_type": "code",
   "execution_count": 51,
   "metadata": {},
   "outputs": [],
   "source": [
    "job_desig_vectorized_test = job_desig_transformer.transform(test['job_desig'])\n",
    "\n",
    "\n",
    "key_skills_vectorized_test = key_skills_transformer.transform(test['key_skills'])\n",
    "\n",
    "\n",
    "City_coded_vectorized_test = City_coded_transformer.transform(test['City coded'])"
   ]
  },
  {
   "cell_type": "code",
   "execution_count": 52,
   "metadata": {},
   "outputs": [],
   "source": [
    "combined_test = sp.hstack([job_desig_vectorized_test, key_skills_vectorized_test, City_coded_vectorized_test], format='csr')"
   ]
  },
  {
   "cell_type": "code",
   "execution_count": 53,
   "metadata": {},
   "outputs": [
    {
     "data": {
      "text/plain": [
       "<6601x9201 sparse matrix of type '<class 'numpy.float64'>'\n",
       "\twith 83953 stored elements in Compressed Sparse Row format>"
      ]
     },
     "execution_count": 53,
     "metadata": {},
     "output_type": "execute_result"
    }
   ],
   "source": [
    "X_test_tfidf = tfidf.transform(combined_test)\n",
    "X_test_tfidf"
   ]
  },
  {
   "cell_type": "code",
   "execution_count": 54,
   "metadata": {},
   "outputs": [],
   "source": [
    "predicted = clf.predict(X_test_tfidf)"
   ]
  },
  {
   "cell_type": "code",
   "execution_count": 56,
   "metadata": {},
   "outputs": [
    {
     "data": {
      "text/plain": [
       "array([20,  1, 12,  1,  1, 12, 12,  4, 12,  1, 12, 12, 20, 20, 12, 12,  1,\n",
       "        1, 12, 12, 20, 12, 20,  8, 12, 12, 12, 12, 20, 12,  1, 20, 20,  4,\n",
       "       20,  8, 20,  1, 12, 20,  1, 20, 20, 20,  8, 12,  4,  8, 20, 12])"
      ]
     },
     "execution_count": 56,
     "metadata": {},
     "output_type": "execute_result"
    }
   ],
   "source": [
    "predicted[:50]"
   ]
  },
  {
   "cell_type": "code",
   "execution_count": null,
   "metadata": {},
   "outputs": [],
   "source": []
  }
 ],
 "metadata": {
  "kernelspec": {
   "display_name": "Python 3",
   "language": "python",
   "name": "python3"
  },
  "language_info": {
   "codemirror_mode": {
    "name": "ipython",
    "version": 3
   },
   "file_extension": ".py",
   "mimetype": "text/x-python",
   "name": "python",
   "nbconvert_exporter": "python",
   "pygments_lexer": "ipython3",
   "version": "3.7.1"
  }
 },
 "nbformat": 4,
 "nbformat_minor": 2
}
