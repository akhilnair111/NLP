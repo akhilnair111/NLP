{
 "cells": [
  {
   "cell_type": "code",
   "execution_count": 1,
   "metadata": {},
   "outputs": [],
   "source": [
    "import os\n",
    "import pandas as pd\n",
    "os.chdir(\"C:/Users/Akhil/Desktop\")\n",
    "data = pd.read_csv(\"Train_Dataset.csv\")"
   ]
  },
  {
   "cell_type": "code",
   "execution_count": 2,
   "metadata": {},
   "outputs": [],
   "source": [
    "from sklearn.feature_extraction.text import CountVectorizer\n",
    "from sklearn.model_selection import train_test_split\n",
    "from sklearn.pipeline import Pipeline\n",
    "from sklearn.multiclass import OneVsRestClassifier\n",
    "from sklearn.linear_model import LogisticRegression\n",
    "from sklearn.preprocessing import FunctionTransformer"
   ]
  },
  {
   "cell_type": "code",
   "execution_count": 3,
   "metadata": {},
   "outputs": [
    {
     "data": {
      "text/html": [
       "<div>\n",
       "<style scoped>\n",
       "    .dataframe tbody tr th:only-of-type {\n",
       "        vertical-align: middle;\n",
       "    }\n",
       "\n",
       "    .dataframe tbody tr th {\n",
       "        vertical-align: top;\n",
       "    }\n",
       "\n",
       "    .dataframe thead th {\n",
       "        text-align: right;\n",
       "    }\n",
       "</style>\n",
       "<table border=\"1\" class=\"dataframe\">\n",
       "  <thead>\n",
       "    <tr style=\"text-align: right;\">\n",
       "      <th></th>\n",
       "      <th>Sr no</th>\n",
       "      <th>experience</th>\n",
       "      <th>job_description</th>\n",
       "      <th>job_desig</th>\n",
       "      <th>job_type</th>\n",
       "      <th>key_skills</th>\n",
       "      <th>City coded</th>\n",
       "      <th>company_name_encoded</th>\n",
       "      <th>salary</th>\n",
       "    </tr>\n",
       "  </thead>\n",
       "  <tbody>\n",
       "    <tr>\n",
       "      <th>0</th>\n",
       "      <td>0</td>\n",
       "      <td>5-7 yrs</td>\n",
       "      <td>Exp: Minimum 5 years;Good understanding of IOC...</td>\n",
       "      <td>Senior Exploit and Vulnerability Researcher</td>\n",
       "      <td>NaN</td>\n",
       "      <td>team skills, communication skills, analytical ...</td>\n",
       "      <td>Delhi NCR</td>\n",
       "      <td>3687</td>\n",
       "      <td>6to10</td>\n",
       "    </tr>\n",
       "    <tr>\n",
       "      <th>1</th>\n",
       "      <td>1</td>\n",
       "      <td>10-17 yrs</td>\n",
       "      <td>He should have handled a team of atleast 5-6 d...</td>\n",
       "      <td>Head SCM</td>\n",
       "      <td>NaN</td>\n",
       "      <td>ppc, logistics, inventory management, supply c...</td>\n",
       "      <td>Tier 2</td>\n",
       "      <td>458</td>\n",
       "      <td>10to15</td>\n",
       "    </tr>\n",
       "    <tr>\n",
       "      <th>2</th>\n",
       "      <td>2</td>\n",
       "      <td>5-9 yrs</td>\n",
       "      <td>Must be an effective communicator (written &amp; s...</td>\n",
       "      <td>Deputy Manager - Talent Management &amp; Leadershi...</td>\n",
       "      <td>Analytics</td>\n",
       "      <td>HR Analytics, Employee Engagement, Training, S...</td>\n",
       "      <td>Delhi NCR</td>\n",
       "      <td>4195</td>\n",
       "      <td>15to25</td>\n",
       "    </tr>\n",
       "    <tr>\n",
       "      <th>3</th>\n",
       "      <td>3</td>\n",
       "      <td>7-10 yrs</td>\n",
       "      <td>7  -  10 years of overall experience in data e...</td>\n",
       "      <td>Associate Manager Data Engineering</td>\n",
       "      <td>Analytics</td>\n",
       "      <td>SQL, Javascript, Automation, Python, Ruby, Ana...</td>\n",
       "      <td>Bengaluru</td>\n",
       "      <td>313</td>\n",
       "      <td>10to15</td>\n",
       "    </tr>\n",
       "    <tr>\n",
       "      <th>4</th>\n",
       "      <td>4</td>\n",
       "      <td>1-3 yrs</td>\n",
       "      <td>Chartered Accountancy degree or MBA in Finance...</td>\n",
       "      <td>TS- GSA- Senior Analyst</td>\n",
       "      <td>NaN</td>\n",
       "      <td>accounting, finance, cash flow, financial plan...</td>\n",
       "      <td>Delhi NCR</td>\n",
       "      <td>1305</td>\n",
       "      <td>3to6</td>\n",
       "    </tr>\n",
       "  </tbody>\n",
       "</table>\n",
       "</div>"
      ],
      "text/plain": [
       "   Sr no experience                                    job_description  \\\n",
       "0      0    5-7 yrs  Exp: Minimum 5 years;Good understanding of IOC...   \n",
       "1      1  10-17 yrs  He should have handled a team of atleast 5-6 d...   \n",
       "2      2    5-9 yrs  Must be an effective communicator (written & s...   \n",
       "3      3   7-10 yrs  7  -  10 years of overall experience in data e...   \n",
       "4      4    1-3 yrs  Chartered Accountancy degree or MBA in Finance...   \n",
       "\n",
       "                                           job_desig   job_type  \\\n",
       "0        Senior Exploit and Vulnerability Researcher        NaN   \n",
       "1                                           Head SCM        NaN   \n",
       "2  Deputy Manager - Talent Management & Leadershi...  Analytics   \n",
       "3                 Associate Manager Data Engineering  Analytics   \n",
       "4                            TS- GSA- Senior Analyst        NaN   \n",
       "\n",
       "                                          key_skills City coded  \\\n",
       "0  team skills, communication skills, analytical ...  Delhi NCR   \n",
       "1  ppc, logistics, inventory management, supply c...     Tier 2   \n",
       "2  HR Analytics, Employee Engagement, Training, S...  Delhi NCR   \n",
       "3  SQL, Javascript, Automation, Python, Ruby, Ana...  Bengaluru   \n",
       "4  accounting, finance, cash flow, financial plan...  Delhi NCR   \n",
       "\n",
       "   company_name_encoded  salary  \n",
       "0                  3687   6to10  \n",
       "1                   458  10to15  \n",
       "2                  4195  15to25  \n",
       "3                   313  10to15  \n",
       "4                  1305    3to6  "
      ]
     },
     "execution_count": 3,
     "metadata": {},
     "output_type": "execute_result"
    }
   ],
   "source": [
    "data.head()"
   ]
  },
  {
   "cell_type": "code",
   "execution_count": 12,
   "metadata": {},
   "outputs": [],
   "source": [
    "X = data.experience\n",
    "y = data.salary"
   ]
  },
  {
   "cell_type": "code",
   "execution_count": 13,
   "metadata": {},
   "outputs": [],
   "source": [
    "X_train, X_test, y_train, y_test = train_test_split(X, y, test_size=0.3)"
   ]
  },
  {
   "cell_type": "code",
   "execution_count": 14,
   "metadata": {},
   "outputs": [],
   "source": [
    "cvec = CountVectorizer()\n",
    "cvec = CountVectorizer(stop_words='english').fit(X_train)\n",
    "df_train = pd.DataFrame(cvec.transform(X_train).todense(),columns=cvec.get_feature_names())"
   ]
  },
  {
   "cell_type": "code",
   "execution_count": 15,
   "metadata": {},
   "outputs": [],
   "source": [
    "df_test = pd.DataFrame(cvec.transform(X_test).todense(),columns=cvec.get_feature_names())"
   ]
  },
  {
   "cell_type": "code",
   "execution_count": 18,
   "metadata": {},
   "outputs": [
    {
     "name": "stdout",
     "output_type": "stream",
     "text": [
      "(13861, 20)\n",
      "(13861,)\n",
      "(5941, 20)\n",
      "(5941,)\n"
     ]
    }
   ],
   "source": [
    "print(df_train.shape)\n",
    "print(y_train.shape)\n",
    "print(df_test.shape)\n",
    "print(y_test.shape)"
   ]
  },
  {
   "cell_type": "code",
   "execution_count": 19,
   "metadata": {},
   "outputs": [
    {
     "name": "stderr",
     "output_type": "stream",
     "text": [
      "c:\\users\\akhil\\appdata\\local\\programs\\python\\python37-32\\lib\\site-packages\\sklearn\\linear_model\\logistic.py:432: FutureWarning: Default solver will be changed to 'lbfgs' in 0.22. Specify a solver to silence this warning.\n",
      "  FutureWarning)\n",
      "c:\\users\\akhil\\appdata\\local\\programs\\python\\python37-32\\lib\\site-packages\\sklearn\\linear_model\\logistic.py:459: FutureWarning: Default multi_class will be changed to 'auto' in 0.22. Specify the multi_class option to silence this warning.\n",
      "  \"this warning.\", FutureWarning)\n"
     ]
    },
    {
     "data": {
      "text/plain": [
       "LogisticRegression(C=1.0, class_weight=None, dual=False, fit_intercept=True,\n",
       "          intercept_scaling=1, max_iter=100, multi_class='warn',\n",
       "          n_jobs=None, penalty='l2', random_state=None, solver='warn',\n",
       "          tol=0.0001, verbose=0, warm_start=False)"
      ]
     },
     "execution_count": 19,
     "metadata": {},
     "output_type": "execute_result"
    }
   ],
   "source": [
    "lr = LogisticRegression()\n",
    "lr.fit(df_train, y_train)"
   ]
  },
  {
   "cell_type": "code",
   "execution_count": 22,
   "metadata": {},
   "outputs": [
    {
     "data": {
      "text/plain": [
       "0.3066823767042585"
      ]
     },
     "execution_count": 22,
     "metadata": {},
     "output_type": "execute_result"
    }
   ],
   "source": [
    "lr.score(df_test, y_test)"
   ]
  },
  {
   "cell_type": "code",
   "execution_count": 24,
   "metadata": {},
   "outputs": [
    {
     "name": "stdout",
     "output_type": "stream",
     "text": [
      "<class 'pandas.core.frame.DataFrame'>\n",
      "RangeIndex: 19802 entries, 0 to 19801\n",
      "Data columns (total 9 columns):\n",
      "Sr no                   19802 non-null int64\n",
      "experience              19802 non-null object\n",
      "job_description         15384 non-null object\n",
      "job_desig               19802 non-null object\n",
      "job_type                4797 non-null object\n",
      "key_skills              19801 non-null object\n",
      "City coded              19802 non-null object\n",
      "company_name_encoded    19802 non-null int64\n",
      "salary                  19802 non-null object\n",
      "dtypes: int64(2), object(7)\n",
      "memory usage: 850.9+ KB\n"
     ]
    }
   ],
   "source": [
    "data.info()"
   ]
  },
  {
   "cell_type": "code",
   "execution_count": null,
   "metadata": {},
   "outputs": [],
   "source": []
  }
 ],
 "metadata": {
  "kernelspec": {
   "display_name": "Python 3",
   "language": "python",
   "name": "python3"
  },
  "language_info": {
   "codemirror_mode": {
    "name": "ipython",
    "version": 3
   },
   "file_extension": ".py",
   "mimetype": "text/x-python",
   "name": "python",
   "nbconvert_exporter": "python",
   "pygments_lexer": "ipython3",
   "version": "3.7.1"
  }
 },
 "nbformat": 4,
 "nbformat_minor": 2
}
