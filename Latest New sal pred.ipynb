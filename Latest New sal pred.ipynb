{
 "cells": [
  {
   "cell_type": "code",
   "execution_count": 1,
   "metadata": {},
   "outputs": [],
   "source": [
    "import os\n",
    "import pandas as pd\n",
    "os.chdir(\"C:/Users/Akhil/Desktop\")\n",
    "train = pd.read_csv(\"Train_Dataset.csv\")"
   ]
  },
  {
   "cell_type": "code",
   "execution_count": 2,
   "metadata": {},
   "outputs": [
    {
     "name": "stderr",
     "output_type": "stream",
     "text": [
      "C:\\Users\\Akhil\\Anaconda3\\lib\\site-packages\\ipykernel_launcher.py:10: SettingWithCopyWarning: \n",
      "A value is trying to be set on a copy of a slice from a DataFrame\n",
      "\n",
      "See the caveats in the documentation: http://pandas.pydata.org/pandas-docs/stable/indexing.html#indexing-view-versus-copy\n",
      "  # Remove the CWD from sys.path while we load stuff.\n"
     ]
    }
   ],
   "source": [
    "train['Exp'] = train[\"experience\"].str.extract(\"(\\d*\\d.?\\d+)\", expand=True)\n",
    "train['Exp'] = train['Exp'].str.split('-')\n",
    "train[['start','end']] = pd.DataFrame(train.Exp.values.tolist())\n",
    "train['Avg Exp'] = train[['start','end']].astype(float).mean(axis=1)\n",
    "train['Salary'] = train['salary'].str.split('to')\n",
    "train[['sal_start','sal_end']] = pd.DataFrame(train.Salary.values.tolist())\n",
    "train['Avg_Salary'] = train[['sal_start','sal_end']].astype(float).mean(axis=1)\n",
    "X = train[['job_desig', 'key_skills', 'City coded', 'Avg Exp', 'Avg_Salary','company_name_encoded']]\n",
    "X.drop(['Avg Exp'], axis=1)\n",
    "X.dropna(subset=['key_skills'], inplace=True)"
   ]
  },
  {
   "cell_type": "code",
   "execution_count": 3,
   "metadata": {},
   "outputs": [
    {
     "name": "stderr",
     "output_type": "stream",
     "text": [
      "C:\\Users\\Akhil\\Anaconda3\\lib\\site-packages\\ipykernel_launcher.py:1: SettingWithCopyWarning: \n",
      "A value is trying to be set on a copy of a slice from a DataFrame.\n",
      "Try using .loc[row_indexer,col_indexer] = value instead\n",
      "\n",
      "See the caveats in the documentation: http://pandas.pydata.org/pandas-docs/stable/indexing.html#indexing-view-versus-copy\n",
      "  \"\"\"Entry point for launching an IPython kernel.\n",
      "C:\\Users\\Akhil\\Anaconda3\\lib\\site-packages\\ipykernel_launcher.py:2: SettingWithCopyWarning: \n",
      "A value is trying to be set on a copy of a slice from a DataFrame.\n",
      "Try using .loc[row_indexer,col_indexer] = value instead\n",
      "\n",
      "See the caveats in the documentation: http://pandas.pydata.org/pandas-docs/stable/indexing.html#indexing-view-versus-copy\n",
      "  \n"
     ]
    }
   ],
   "source": [
    "X['Avg_Exp'] = X['Avg Exp'].astype(int)\n",
    "X['Avg_Salary'] = X['Avg_Salary'].astype(int)\n",
    "X = X.drop(['Avg Exp'], axis=1)"
   ]
  },
  {
   "cell_type": "code",
   "execution_count": 4,
   "metadata": {},
   "outputs": [],
   "source": [
    "import time\n",
    "import numpy as np\n",
    "import pandas as pd\n",
    "import matplotlib.pyplot as plt\n",
    "import seaborn as sns\n",
    "from scipy.sparse import csr_matrix, hstack\n",
    "from sklearn.feature_extraction.text import CountVectorizer, TfidfVectorizer\n",
    "from sklearn.preprocessing import LabelBinarizer"
   ]
  },
  {
   "cell_type": "code",
   "execution_count": 5,
   "metadata": {},
   "outputs": [
    {
     "name": "stderr",
     "output_type": "stream",
     "text": [
      "C:\\Users\\Akhil\\Anaconda3\\lib\\site-packages\\ipykernel_launcher.py:4: SettingWithCopyWarning: \n",
      "A value is trying to be set on a copy of a slice from a DataFrame.\n",
      "Try using .loc[row_indexer,col_indexer] = value instead\n",
      "\n",
      "See the caveats in the documentation: http://pandas.pydata.org/pandas-docs/stable/indexing.html#indexing-view-versus-copy\n",
      "  after removing the cwd from sys.path.\n"
     ]
    },
    {
     "data": {
      "text/html": [
       "<div>\n",
       "<style scoped>\n",
       "    .dataframe tbody tr th:only-of-type {\n",
       "        vertical-align: middle;\n",
       "    }\n",
       "\n",
       "    .dataframe tbody tr th {\n",
       "        vertical-align: top;\n",
       "    }\n",
       "\n",
       "    .dataframe thead th {\n",
       "        text-align: right;\n",
       "    }\n",
       "</style>\n",
       "<table border=\"1\" class=\"dataframe\">\n",
       "  <thead>\n",
       "    <tr style=\"text-align: right;\">\n",
       "      <th></th>\n",
       "      <th>job_desig</th>\n",
       "      <th>key_skills</th>\n",
       "      <th>Avg_Salary</th>\n",
       "      <th>count</th>\n",
       "    </tr>\n",
       "  </thead>\n",
       "  <tbody>\n",
       "    <tr>\n",
       "      <th>0</th>\n",
       "      <td>Senior Exploit and Vulnerability Researcher</td>\n",
       "      <td>team skills, communication skills, analytical ...</td>\n",
       "      <td>8</td>\n",
       "      <td>43</td>\n",
       "    </tr>\n",
       "    <tr>\n",
       "      <th>1</th>\n",
       "      <td>Head SCM</td>\n",
       "      <td>ppc, logistics, inventory management, supply c...</td>\n",
       "      <td>12</td>\n",
       "      <td>8</td>\n",
       "    </tr>\n",
       "    <tr>\n",
       "      <th>2</th>\n",
       "      <td>Deputy Manager - Talent Management &amp; Leadershi...</td>\n",
       "      <td>HR Analytics, Employee Engagement, Training, S...</td>\n",
       "      <td>20</td>\n",
       "      <td>66</td>\n",
       "    </tr>\n",
       "    <tr>\n",
       "      <th>3</th>\n",
       "      <td>Associate Manager Data Engineering</td>\n",
       "      <td>SQL, Javascript, Automation, Python, Ruby, Ana...</td>\n",
       "      <td>12</td>\n",
       "      <td>34</td>\n",
       "    </tr>\n",
       "    <tr>\n",
       "      <th>4</th>\n",
       "      <td>TS- GSA- Senior Analyst</td>\n",
       "      <td>accounting, finance, cash flow, financial plan...</td>\n",
       "      <td>4</td>\n",
       "      <td>23</td>\n",
       "    </tr>\n",
       "  </tbody>\n",
       "</table>\n",
       "</div>"
      ],
      "text/plain": [
       "                                           job_desig  \\\n",
       "0        Senior Exploit and Vulnerability Researcher   \n",
       "1                                           Head SCM   \n",
       "2  Deputy Manager - Talent Management & Leadershi...   \n",
       "3                 Associate Manager Data Engineering   \n",
       "4                            TS- GSA- Senior Analyst   \n",
       "\n",
       "                                          key_skills  Avg_Salary  count  \n",
       "0  team skills, communication skills, analytical ...           8     43  \n",
       "1  ppc, logistics, inventory management, supply c...          12      8  \n",
       "2  HR Analytics, Employee Engagement, Training, S...          20     66  \n",
       "3  SQL, Javascript, Automation, Python, Ruby, Ana...          12     34  \n",
       "4  accounting, finance, cash flow, financial plan...           4     23  "
      ]
     },
     "execution_count": 5,
     "metadata": {},
     "output_type": "execute_result"
    }
   ],
   "source": [
    "X.job_desig = X.job_desig.astype(str)\n",
    "\n",
    "descr = X[['job_desig','key_skills', 'Avg_Salary']]\n",
    "descr['count'] = descr['job_desig'].apply(lambda x : len(str(x)))\n",
    "descr.head()"
   ]
  },
  {
   "cell_type": "code",
   "execution_count": 6,
   "metadata": {},
   "outputs": [
    {
     "name": "stderr",
     "output_type": "stream",
     "text": [
      "C:\\Users\\Akhil\\Anaconda3\\lib\\site-packages\\scipy\\stats\\stats.py:1713: FutureWarning: Using a non-tuple sequence for multidimensional indexing is deprecated; use `arr[tuple(seq)]` instead of `arr[seq]`. In the future this will be interpreted as an array index, `arr[np.array(seq)]`, which will result either in an error or a different result.\n",
      "  return np.add.reduce(sorted[indexer] * weights, axis=axis) / sumval\n"
     ]
    },
    {
     "data": {
      "image/png": "[encoded data removed]",
      "text/plain": [
       "<Figure size 432x288 with 1 Axes>"
      ]
     },
     "metadata": {
      "needs_background": "light"
     },
     "output_type": "display_data"
    }
   ],
   "source": [
    "df = descr.groupby('count')['Avg_Salary'].mean().reset_index()\n",
    "sns.regplot(x=df[\"count\"], y=(df[\"Avg_Salary\"]))\n",
    "plt.xlabel(\"word count\")\n",
    "plt.show()"
   ]
  },
  {
   "cell_type": "code",
   "execution_count": 7,
   "metadata": {},
   "outputs": [
    {
     "data": {
      "text/plain": [
       "[('!', ''),\n",
       " ('\"', ''),\n",
       " ('#', ''),\n",
       " ('$', ''),\n",
       " ('%', ''),\n",
       " ('&', ''),\n",
       " (\"'\", ''),\n",
       " ('(', ''),\n",
       " (')', ''),\n",
       " ('*', ''),\n",
       " ('+', ''),\n",
       " (',', ''),\n",
       " ('-', ''),\n",
       " ('.', ''),\n",
       " ('/', ''),\n",
       " (':', ''),\n",
       " (';', ''),\n",
       " ('<', ''),\n",
       " ('=', ''),\n",
       " ('>', ''),\n",
       " ('?', ''),\n",
       " ('@', ''),\n",
       " ('[', ''),\n",
       " ('\\\\', ''),\n",
       " (']', ''),\n",
       " ('^', ''),\n",
       " ('_', ''),\n",
       " ('`', ''),\n",
       " ('{', ''),\n",
       " ('|', ''),\n",
       " ('}', ''),\n",
       " ('~', '')]"
      ]
     },
     "execution_count": 7,
     "metadata": {},
     "output_type": "execute_result"
    }
   ],
   "source": [
    "from string import punctuation\n",
    "punctuation\n",
    "# Create a list of punctuation replacements\n",
    "punctuation_symbols = []\n",
    "for symbol in punctuation:\n",
    "    punctuation_symbols.append((symbol, ''))\n",
    "    \n",
    "punctuation_symbols"
   ]
  },
  {
   "cell_type": "code",
   "execution_count": 8,
   "metadata": {},
   "outputs": [
    {
     "name": "stderr",
     "output_type": "stream",
     "text": [
      "[nltk_data] Downloading package stopwords to\n",
      "[nltk_data]     C:\\Users\\Akhil\\AppData\\Roaming\\nltk_data...\n",
      "[nltk_data]   Package stopwords is already up-to-date!\n"
     ]
    }
   ],
   "source": [
    "# Examine list of stop words\n",
    "import nltk\n",
    "nltk.download('stopwords')\n",
    "from nltk.corpus import stopwords\n",
    "stop = stopwords.words('english')"
   ]
  },
  {
   "cell_type": "code",
   "execution_count": 9,
   "metadata": {},
   "outputs": [],
   "source": [
    "import string\n",
    "\n",
    "# Create a function to remove punctuations\n",
    "def remove_punctuation(sentence: str) -> str:\n",
    "    return sentence.translate(str.maketrans('', '', string.punctuation))\n",
    "\n",
    "# Create a function to remove stop words\n",
    "def remove_stop_words(x):\n",
    "    x = ' '.join([i for i in x.lower().split(' ') if i not in stop])\n",
    "    return x\n",
    "\n",
    "# Create a function to lowercase the words\n",
    "def to_lower(x):\n",
    "    return x.lower()"
   ]
  },
  {
   "cell_type": "code",
   "execution_count": 10,
   "metadata": {},
   "outputs": [],
   "source": [
    "# Stem the Words\n",
    "from nltk.stem.porter import PorterStemmer\n",
    "porter = PorterStemmer()\n",
    "X['job_desig'] = X['job_desig'].apply(porter.stem)\n",
    "\n",
    "X['job_desig'] = X['job_desig'].apply(remove_punctuation)\n",
    "X['job_desig'] = X['job_desig'].apply(remove_stop_words)\n",
    "X['job_desig'] = X['job_desig'].apply(to_lower)\n",
    "\n",
    "X['key_skills'] = X['key_skills'].apply(remove_punctuation)\n",
    "X['key_skills'] = X['key_skills'].apply(remove_stop_words)\n",
    "X['key_skills'] = X['key_skills'].apply(to_lower)\n",
    "\n",
    "X['City coded'] = X['City coded'].apply(to_lower)"
   ]
  },
  {
   "cell_type": "code",
   "execution_count": 11,
   "metadata": {},
   "outputs": [
    {
     "data": {
      "text/html": [
       "<div>\n",
       "<style scoped>\n",
       "    .dataframe tbody tr th:only-of-type {\n",
       "        vertical-align: middle;\n",
       "    }\n",
       "\n",
       "    .dataframe tbody tr th {\n",
       "        vertical-align: top;\n",
       "    }\n",
       "\n",
       "    .dataframe thead th {\n",
       "        text-align: right;\n",
       "    }\n",
       "</style>\n",
       "<table border=\"1\" class=\"dataframe\">\n",
       "  <thead>\n",
       "    <tr style=\"text-align: right;\">\n",
       "      <th></th>\n",
       "      <th>job_desig</th>\n",
       "      <th>key_skills</th>\n",
       "      <th>City coded</th>\n",
       "      <th>Avg_Salary</th>\n",
       "      <th>company_name_encoded</th>\n",
       "      <th>Avg_Exp</th>\n",
       "    </tr>\n",
       "  </thead>\n",
       "  <tbody>\n",
       "    <tr>\n",
       "      <th>0</th>\n",
       "      <td>senior exploit vulnerability research</td>\n",
       "      <td>team skills communication skills analytical sk...</td>\n",
       "      <td>delhi ncr</td>\n",
       "      <td>8</td>\n",
       "      <td>3687</td>\n",
       "      <td>6</td>\n",
       "    </tr>\n",
       "    <tr>\n",
       "      <th>1</th>\n",
       "      <td>head scm</td>\n",
       "      <td>ppc logistics inventory management supply chai...</td>\n",
       "      <td>tier 2</td>\n",
       "      <td>12</td>\n",
       "      <td>458</td>\n",
       "      <td>13</td>\n",
       "    </tr>\n",
       "    <tr>\n",
       "      <th>2</th>\n",
       "      <td>deputy manager  talent management  leadership ...</td>\n",
       "      <td>hr analytics employee engagement training succ...</td>\n",
       "      <td>delhi ncr</td>\n",
       "      <td>20</td>\n",
       "      <td>4195</td>\n",
       "      <td>7</td>\n",
       "    </tr>\n",
       "    <tr>\n",
       "      <th>3</th>\n",
       "      <td>associate manager data engin</td>\n",
       "      <td>sql javascript automation python ruby analytic...</td>\n",
       "      <td>bengaluru</td>\n",
       "      <td>12</td>\n",
       "      <td>313</td>\n",
       "      <td>8</td>\n",
       "    </tr>\n",
       "    <tr>\n",
       "      <th>4</th>\n",
       "      <td>ts gsa senior analyst</td>\n",
       "      <td>accounting finance cash flow financial plannin...</td>\n",
       "      <td>delhi ncr</td>\n",
       "      <td>4</td>\n",
       "      <td>1305</td>\n",
       "      <td>2</td>\n",
       "    </tr>\n",
       "  </tbody>\n",
       "</table>\n",
       "</div>"
      ],
      "text/plain": [
       "                                           job_desig  \\\n",
       "0              senior exploit vulnerability research   \n",
       "1                                           head scm   \n",
       "2  deputy manager  talent management  leadership ...   \n",
       "3                       associate manager data engin   \n",
       "4                              ts gsa senior analyst   \n",
       "\n",
       "                                          key_skills City coded  Avg_Salary  \\\n",
       "0  team skills communication skills analytical sk...  delhi ncr           8   \n",
       "1  ppc logistics inventory management supply chai...     tier 2          12   \n",
       "2  hr analytics employee engagement training succ...  delhi ncr          20   \n",
       "3  sql javascript automation python ruby analytic...  bengaluru          12   \n",
       "4  accounting finance cash flow financial plannin...  delhi ncr           4   \n",
       "\n",
       "   company_name_encoded  Avg_Exp  \n",
       "0                  3687        6  \n",
       "1                   458       13  \n",
       "2                  4195        7  \n",
       "3                   313        8  \n",
       "4                  1305        2  "
      ]
     },
     "execution_count": 11,
     "metadata": {},
     "output_type": "execute_result"
    }
   ],
   "source": [
    "X.head()"
   ]
  },
  {
   "cell_type": "code",
   "execution_count": 12,
   "metadata": {},
   "outputs": [],
   "source": [
    "# CountVectorizer - name & categories\n",
    "cv = CountVectorizer(min_df=10)\n",
    "X_job_desig = cv.fit_transform(X['job_desig'])\n",
    "cv1 = CountVectorizer(min_df=10)\n",
    "X_key_skills = cv1.fit_transform(X['key_skills'])\n",
    "cv2 = CountVectorizer(min_df=10)\n",
    "X_City_coded = cv2.fit_transform(X['City coded'])"
   ]
  },
  {
   "cell_type": "code",
   "execution_count": 13,
   "metadata": {},
   "outputs": [],
   "source": [
    "from sklearn.feature_extraction.text import TfidfTransformer\n",
    "tfidf = TfidfTransformer()\n",
    "X_job_desig = tfidf.fit_transform(X_job_desig)\n",
    "tfidf1 = TfidfTransformer()\n",
    "X_key_skills = tfidf1.fit_transform(X_key_skills)\n",
    "tfidf2 = TfidfTransformer()\n",
    "X_City_coded = tfidf2.fit_transform(X_City_coded)"
   ]
  },
  {
   "cell_type": "code",
   "execution_count": 14,
   "metadata": {},
   "outputs": [
    {
     "data": {
      "text/plain": [
       "<19801x2 sparse matrix of type '<class 'numpy.int64'>'\n",
       "\twith 39154 stored elements in Compressed Sparse Row format>"
      ]
     },
     "execution_count": 14,
     "metadata": {},
     "output_type": "execute_result"
    }
   ],
   "source": [
    "X_dummies = csr_matrix(pd.get_dummies(X[['company_name_encoded', 'Avg_Exp']], sparse=True).values)\n",
    "X_dummies"
   ]
  },
  {
   "cell_type": "code",
   "execution_count": 15,
   "metadata": {},
   "outputs": [],
   "source": [
    "sparse_merge = hstack((X_job_desig, \n",
    "                       X_key_skills, X_City_coded, X_dummies)).tocsr()"
   ]
  },
  {
   "cell_type": "code",
   "execution_count": 16,
   "metadata": {},
   "outputs": [
    {
     "data": {
      "text/plain": [
       "<19801x2209 sparse matrix of type '<class 'numpy.float64'>'\n",
       "\twith 269354 stored elements in Compressed Sparse Row format>"
      ]
     },
     "execution_count": 16,
     "metadata": {},
     "output_type": "execute_result"
    }
   ],
   "source": [
    "sparse_merge"
   ]
  },
  {
   "cell_type": "code",
   "execution_count": null,
   "metadata": {},
   "outputs": [],
   "source": []
  },
  {
   "cell_type": "code",
   "execution_count": 17,
   "metadata": {},
   "outputs": [],
   "source": [
    "#------------------------------------------------------------------------------------------"
   ]
  },
  {
   "cell_type": "code",
   "execution_count": 18,
   "metadata": {},
   "outputs": [],
   "source": [
    "test = pd.read_csv(\"Test_Dataset.csv\")"
   ]
  },
  {
   "cell_type": "code",
   "execution_count": 19,
   "metadata": {},
   "outputs": [
    {
     "name": "stderr",
     "output_type": "stream",
     "text": [
      "C:\\Users\\Akhil\\Anaconda3\\lib\\site-packages\\ipykernel_launcher.py:7: SettingWithCopyWarning: \n",
      "A value is trying to be set on a copy of a slice from a DataFrame\n",
      "\n",
      "See the caveats in the documentation: http://pandas.pydata.org/pandas-docs/stable/indexing.html#indexing-view-versus-copy\n",
      "  import sys\n"
     ]
    }
   ],
   "source": [
    "test['Exp'] = test[\"experience\"].str.extract(\"(\\d*\\d.?\\d+)\", expand=True)\n",
    "test['Exp'] = test['Exp'].str.split('-')\n",
    "test[['start','end']] = pd.DataFrame(test.Exp.values.tolist())\n",
    "test['Avg Exp'] = test[['start','end']].astype(float).mean(axis=1)\n",
    "X_test = test[['job_desig', 'key_skills', 'Avg Exp', 'location', 'company_name_encoded']]\n",
    "X_test.drop(['Avg Exp'], axis=1)\n",
    "X_test.dropna(subset=['key_skills'], inplace=True)"
   ]
  },
  {
   "cell_type": "code",
   "execution_count": 20,
   "metadata": {},
   "outputs": [
    {
     "name": "stderr",
     "output_type": "stream",
     "text": [
      "C:\\Users\\Akhil\\Anaconda3\\lib\\site-packages\\ipykernel_launcher.py:1: SettingWithCopyWarning: \n",
      "A value is trying to be set on a copy of a slice from a DataFrame.\n",
      "Try using .loc[row_indexer,col_indexer] = value instead\n",
      "\n",
      "See the caveats in the documentation: http://pandas.pydata.org/pandas-docs/stable/indexing.html#indexing-view-versus-copy\n",
      "  \"\"\"Entry point for launching an IPython kernel.\n"
     ]
    }
   ],
   "source": [
    "X_test['City coded'] = X_test['location']\n",
    "X_test = X_test.drop(['location'], axis = 1)"
   ]
  },
  {
   "cell_type": "code",
   "execution_count": 21,
   "metadata": {},
   "outputs": [],
   "source": [
    "X_test['Avg_Exp'] = X_test['Avg Exp'].astype(int)\n",
    "X_test = X_test.drop(['Avg Exp'], axis = 1)"
   ]
  },
  {
   "cell_type": "code",
   "execution_count": 22,
   "metadata": {},
   "outputs": [],
   "source": [
    "X_test['job_desig'] = X_test['job_desig'].apply(porter.stem)\n",
    "\n",
    "X_test['job_desig'] = X_test['job_desig'].apply(remove_punctuation)\n",
    "X_test['job_desig'] = X_test['job_desig'].apply(remove_stop_words)\n",
    "X_test['job_desig'] = X_test['job_desig'].apply(to_lower)\n",
    "\n",
    "X_test['key_skills'] = X_test['key_skills'].apply(remove_punctuation)\n",
    "X_test['key_skills'] = X_test['key_skills'].apply(remove_stop_words)\n",
    "X_test['key_skills'] = X_test['key_skills'].apply(to_lower)\n",
    "\n",
    "X_test['City coded'] = X_test['City coded'].apply(to_lower)"
   ]
  },
  {
   "cell_type": "code",
   "execution_count": 23,
   "metadata": {},
   "outputs": [],
   "source": [
    "X_test_job_desig = cv.transform(X_test['job_desig'])\n",
    "X_test_key_skills = cv1.transform(X_test['key_skills'])\n",
    "X_test_City_coded = cv2.transform(X_test['City coded'])\n"
   ]
  },
  {
   "cell_type": "code",
   "execution_count": 24,
   "metadata": {},
   "outputs": [],
   "source": [
    "X_test_job_desig = tfidf.transform(X_test_job_desig)\n",
    "X_test_key_skills = tfidf1.transform(X_test_key_skills)\n",
    "X_test_City_coded = tfidf2.transform(X_test_City_coded)"
   ]
  },
  {
   "cell_type": "code",
   "execution_count": 25,
   "metadata": {},
   "outputs": [
    {
     "data": {
      "text/plain": [
       "<6601x2 sparse matrix of type '<class 'numpy.int64'>'\n",
       "\twith 13047 stored elements in Compressed Sparse Row format>"
      ]
     },
     "execution_count": 25,
     "metadata": {},
     "output_type": "execute_result"
    }
   ],
   "source": [
    "X_test_dummies = csr_matrix(pd.get_dummies(X_test[['company_name_encoded', 'Avg_Exp']], sparse=True).values)\n",
    "X_test_dummies"
   ]
  },
  {
   "cell_type": "code",
   "execution_count": 26,
   "metadata": {},
   "outputs": [],
   "source": [
    "sparse_merge_test = hstack((X_test_job_desig, \n",
    "                       X_test_key_skills, X_test_City_coded, X_test_dummies)).tocsr()"
   ]
  },
  {
   "cell_type": "code",
   "execution_count": 27,
   "metadata": {},
   "outputs": [
    {
     "data": {
      "text/plain": [
       "<6601x2209 sparse matrix of type '<class 'numpy.float64'>'\n",
       "\twith 89141 stored elements in Compressed Sparse Row format>"
      ]
     },
     "execution_count": 27,
     "metadata": {},
     "output_type": "execute_result"
    }
   ],
   "source": [
    "sparse_merge_test"
   ]
  },
  {
   "cell_type": "code",
   "execution_count": null,
   "metadata": {},
   "outputs": [],
   "source": []
  },
  {
   "cell_type": "code",
   "execution_count": 28,
   "metadata": {},
   "outputs": [],
   "source": [
    "from sklearn.naive_bayes import MultinomialNB\n",
    "clf = MultinomialNB().fit(sparse_merge, X.Avg_Salary)"
   ]
  },
  {
   "cell_type": "code",
   "execution_count": 29,
   "metadata": {},
   "outputs": [],
   "source": [
    "predicted = clf.predict(sparse_merge_test)"
   ]
  },
  {
   "cell_type": "code",
   "execution_count": 30,
   "metadata": {},
   "outputs": [
    {
     "data": {
      "text/plain": [
       "array([20,  1,  8, ..., 12, 20, 12])"
      ]
     },
     "execution_count": 30,
     "metadata": {},
     "output_type": "execute_result"
    }
   ],
   "source": [
    "predicted"
   ]
  },
  {
   "cell_type": "code",
   "execution_count": 31,
   "metadata": {},
   "outputs": [
    {
     "data": {
      "text/plain": [
       "array([20,  1,  8,  1,  1, 12, 37,  1, 12,  1, 37, 12, 20, 37, 20, 20,  1,\n",
       "        1, 12, 20, 20, 20,  8,  8, 20,  4, 20, 37, 37, 12,  1, 20, 20, 37,\n",
       "       37,  8, 20,  1,  1, 20,  1,  8, 37, 20,  8, 20,  4,  8, 37, 12])"
      ]
     },
     "execution_count": 31,
     "metadata": {},
     "output_type": "execute_result"
    }
   ],
   "source": [
    "predicted[:50]"
   ]
  },
  {
   "cell_type": "markdown",
   "metadata": {},
   "source": [
    "# KNeighborsClassifier"
   ]
  },
  {
   "cell_type": "code",
   "execution_count": 32,
   "metadata": {},
   "outputs": [],
   "source": [
    "from sklearn.model_selection import train_test_split\n",
    "X_train, X_test, y_train, y_test = train_test_split(sparse_merge, X.Avg_Salary, test_size=0.20)"
   ]
  },
  {
   "cell_type": "code",
   "execution_count": 33,
   "metadata": {},
   "outputs": [
    {
     "data": {
      "text/plain": [
       "KNeighborsClassifier(algorithm='auto', leaf_size=30, metric='minkowski',\n",
       "           metric_params=None, n_jobs=None, n_neighbors=5, p=2,\n",
       "           weights='uniform')"
      ]
     },
     "execution_count": 33,
     "metadata": {},
     "output_type": "execute_result"
    }
   ],
   "source": [
    "from sklearn.neighbors import KNeighborsClassifier\n",
    "classifier = KNeighborsClassifier(n_neighbors=5)\n",
    "classifier.fit(X_train, y_train)"
   ]
  },
  {
   "cell_type": "code",
   "execution_count": 34,
   "metadata": {},
   "outputs": [],
   "source": [
    "y_pred = classifier.predict(X_test)"
   ]
  },
  {
   "cell_type": "code",
   "execution_count": 35,
   "metadata": {},
   "outputs": [
    {
     "name": "stdout",
     "output_type": "stream",
     "text": [
      "[[395 152  45  34  28   2]\n",
      " [179 208 111  38  24   0]\n",
      " [100 144 188 188  89   5]\n",
      " [ 70  70 144 362 228  21]\n",
      " [ 31  46  83 288 329  69]\n",
      " [  5   3  10  38 107 127]]\n",
      "              precision    recall  f1-score   support\n",
      "\n",
      "           1       0.51      0.60      0.55       656\n",
      "           4       0.33      0.37      0.35       560\n",
      "           8       0.32      0.26      0.29       714\n",
      "          12       0.38      0.40      0.39       895\n",
      "          20       0.41      0.39      0.40       846\n",
      "          37       0.57      0.44      0.49       290\n",
      "\n",
      "   micro avg       0.41      0.41      0.41      3961\n",
      "   macro avg       0.42      0.41      0.41      3961\n",
      "weighted avg       0.40      0.41      0.40      3961\n",
      "\n"
     ]
    }
   ],
   "source": [
    "from sklearn.metrics import classification_report, confusion_matrix\n",
    "print(confusion_matrix(y_test, y_pred))\n",
    "print(classification_report(y_test, y_pred))"
   ]
  },
  {
   "cell_type": "markdown",
   "metadata": {},
   "source": [
    "# LinearRegression"
   ]
  },
  {
   "cell_type": "code",
   "execution_count": 36,
   "metadata": {},
   "outputs": [],
   "source": [
    "from sklearn.model_selection import train_test_split\n",
    "from sklearn.metrics import mean_squared_error\n",
    "from sklearn.metrics import r2_score\n",
    "from sklearn.linear_model import LinearRegression"
   ]
  },
  {
   "cell_type": "code",
   "execution_count": 37,
   "metadata": {},
   "outputs": [],
   "source": [
    "X_train, X_test, y_train, y_test = train_test_split(sparse_merge, X.Avg_Salary, test_size = 0.2, random_state=9)"
   ]
  },
  {
   "cell_type": "code",
   "execution_count": 38,
   "metadata": {},
   "outputs": [],
   "source": [
    "linr = LinearRegression()\n",
    "linr.fit(X_train, y_train)\n",
    "pred = linr.predict(X_test)"
   ]
  },
  {
   "cell_type": "code",
   "execution_count": 39,
   "metadata": {},
   "outputs": [],
   "source": [
    "test_set_rmse = (np.sqrt(mean_squared_error(y_test, pred)))\n",
    "\n",
    "test_set_r2 = r2_score(y_test, pred)"
   ]
  },
  {
   "cell_type": "code",
   "execution_count": 40,
   "metadata": {},
   "outputs": [
    {
     "name": "stdout",
     "output_type": "stream",
     "text": [
      "6.756519644445615\n",
      "0.5129408939230933\n"
     ]
    }
   ],
   "source": [
    "print(test_set_rmse)\n",
    "print(test_set_r2)"
   ]
  },
  {
   "cell_type": "markdown",
   "metadata": {},
   "source": [
    "# RandomForestRegressor"
   ]
  },
  {
   "cell_type": "code",
   "execution_count": 43,
   "metadata": {},
   "outputs": [],
   "source": [
    "X_train, X_test, y_train, y_test = train_test_split(sparse_merge, X.Avg_Salary, test_size = 0.25, random_state = 42)"
   ]
  },
  {
   "cell_type": "code",
   "execution_count": 44,
   "metadata": {},
   "outputs": [
    {
     "data": {
      "text/plain": [
       "RandomForestRegressor(bootstrap=True, criterion='mse', max_depth=None,\n",
       "           max_features='auto', max_leaf_nodes=None,\n",
       "           min_impurity_decrease=0.0, min_impurity_split=None,\n",
       "           min_samples_leaf=1, min_samples_split=2,\n",
       "           min_weight_fraction_leaf=0.0, n_estimators=100, n_jobs=None,\n",
       "           oob_score=False, random_state=42, verbose=0, warm_start=False)"
      ]
     },
     "execution_count": 44,
     "metadata": {},
     "output_type": "execute_result"
    }
   ],
   "source": [
    "from sklearn.ensemble import RandomForestRegressor\n",
    "rf = RandomForestRegressor(n_estimators = 100, random_state = 42)\n",
    "rf.fit(X_train, y_train)"
   ]
  },
  {
   "cell_type": "code",
   "execution_count": 45,
   "metadata": {},
   "outputs": [],
   "source": [
    "preds = rf.predict(X_test)"
   ]
  },
  {
   "cell_type": "code",
   "execution_count": 46,
   "metadata": {},
   "outputs": [
    {
     "name": "stdout",
     "output_type": "stream",
     "text": [
      "MAE: 4.773504217570728\n"
     ]
    }
   ],
   "source": [
    "from sklearn.metrics import mean_absolute_error\n",
    "print('MAE:', mean_absolute_error(y_test, preds))"
   ]
  },
  {
   "cell_type": "code",
   "execution_count": null,
   "metadata": {},
   "outputs": [],
   "source": [
    "errors = abs(preds - y_test)\n",
    "errors"
   ]
  },
  {
   "cell_type": "code",
   "execution_count": 48,
   "metadata": {},
   "outputs": [
    {
     "name": "stdout",
     "output_type": "stream",
     "text": [
      "Metrics for Random Forest Trained on Expanded Data\n",
      "Average absolute error: 4.77 degrees.\n"
     ]
    }
   ],
   "source": [
    "print('Metrics for Random Forest Trained on Expanded Data')\n",
    "print('Average absolute error:', round(np.mean(errors), 2), 'degrees.')"
   ]
  },
  {
   "cell_type": "code",
   "execution_count": 49,
   "metadata": {},
   "outputs": [],
   "source": [
    "mape = np.mean(100 * (errors / y_test))"
   ]
  },
  {
   "cell_type": "code",
   "execution_count": 50,
   "metadata": {},
   "outputs": [
    {
     "name": "stdout",
     "output_type": "stream",
     "text": [
      "Accuracy: 15.11 %.\n"
     ]
    }
   ],
   "source": [
    "accuracy = 100 - np.mean(mape)\n",
    "print('Accuracy:', round(accuracy, 2), '%.')"
   ]
  },
  {
   "cell_type": "code",
   "execution_count": 52,
   "metadata": {},
   "outputs": [],
   "source": [
    "from xgboost import XGBClassifier"
   ]
  },
  {
   "cell_type": "code",
   "execution_count": 53,
   "metadata": {},
   "outputs": [
    {
     "data": {
      "text/plain": [
       "XGBClassifier(base_score=0.5, booster='gbtree', colsample_bylevel=1,\n",
       "       colsample_bynode=1, colsample_bytree=1, gamma=0, learning_rate=0.1,\n",
       "       max_delta_step=0, max_depth=3, min_child_weight=1, missing=None,\n",
       "       n_estimators=200, n_jobs=1, nthread=None,\n",
       "       objective='multi:softprob', random_state=0, reg_alpha=0,\n",
       "       reg_lambda=1, scale_pos_weight=1, seed=None, silent=None,\n",
       "       subsample=1, verbosity=1)"
      ]
     },
     "execution_count": 53,
     "metadata": {},
     "output_type": "execute_result"
    }
   ],
   "source": [
    "model = XGBClassifier(n_estimators=200)\n",
    "model.fit(X_train, y_train)"
   ]
  },
  {
   "cell_type": "code",
   "execution_count": 54,
   "metadata": {},
   "outputs": [],
   "source": [
    "# make predictions for test data\n",
    "y_pred = model.predict(X_test)"
   ]
  },
  {
   "cell_type": "code",
   "execution_count": 55,
   "metadata": {},
   "outputs": [],
   "source": [
    "predictions = [round(value) for value in y_pred]"
   ]
  },
  {
   "cell_type": "code",
   "execution_count": 56,
   "metadata": {},
   "outputs": [
    {
     "name": "stdout",
     "output_type": "stream",
     "text": [
      "Accuracy: 44.27%\n"
     ]
    }
   ],
   "source": [
    "# evaluate predictions\n",
    "from sklearn.metrics import accuracy_score\n",
    "accuracy = accuracy_score(y_test, predictions)\n",
    "print(\"Accuracy: %.2f%%\" % (accuracy * 100.0))"
   ]
  },
  {
   "cell_type": "code",
   "execution_count": 57,
   "metadata": {},
   "outputs": [],
   "source": [
    "y_pred_test = model.predict(sparse_merge_test)"
   ]
  },
  {
   "cell_type": "code",
   "execution_count": 58,
   "metadata": {},
   "outputs": [
    {
     "data": {
      "text/plain": [
       "array([20,  1, 12, ..., 20, 20, 12])"
      ]
     },
     "execution_count": 58,
     "metadata": {},
     "output_type": "execute_result"
    }
   ],
   "source": [
    "y_pred_test"
   ]
  },
  {
   "cell_type": "code",
   "execution_count": 59,
   "metadata": {},
   "outputs": [
    {
     "data": {
      "text/plain": [
       "array([20,  1, 12,  1,  1,  8, 20,  1, 20,  1, 20, 12, 12, 20,  4,  8,  1,\n",
       "        1, 12,  4,  8, 37,  8,  8, 12,  1, 20, 20, 20,  4,  1, 20, 12, 20,\n",
       "       37,  8, 12,  1,  1, 12, 12,  8, 37,  4,  8,  8,  4, 12, 20, 12])"
      ]
     },
     "execution_count": 59,
     "metadata": {},
     "output_type": "execute_result"
    }
   ],
   "source": [
    "y_pred_test[:50]"
   ]
  },
  {
   "cell_type": "markdown",
   "metadata": {},
   "source": [
    "# GridsearchCV"
   ]
  },
  {
   "cell_type": "code",
   "execution_count": 30,
   "metadata": {},
   "outputs": [],
   "source": [
    "from sklearn.linear_model import ElasticNet\n",
    "from sklearn.model_selection import GridSearchCV\n",
    "from sklearn.model_selection import train_test_split\n",
    "from sklearn.metrics import mean_squared_error\n",
    "from sklearn.metrics import r2_score"
   ]
  },
  {
   "cell_type": "code",
   "execution_count": 55,
   "metadata": {},
   "outputs": [],
   "source": [
    "X_train, X_test, y_train, y_test = train_test_split(sparse_merge, X.Avg_Salary, test_size = 0.25, random_state = 42)"
   ]
  },
  {
   "cell_type": "code",
   "execution_count": 56,
   "metadata": {},
   "outputs": [],
   "source": [
    "elastic_net = ElasticNet()"
   ]
  },
  {
   "cell_type": "code",
   "execution_count": 57,
   "metadata": {},
   "outputs": [],
   "source": [
    "param_grid = {\"l1_ratio\": np.arange(0.0, 1.0, 0.1)}"
   ]
  },
  {
   "cell_type": "code",
   "execution_count": 58,
   "metadata": {},
   "outputs": [],
   "source": [
    "gscv = GridSearchCV(elastic_net, param_grid, scoring='r2', cv=10, n_jobs= -1)"
   ]
  },
  {
   "cell_type": "code",
   "execution_count": 59,
   "metadata": {},
   "outputs": [
    {
     "data": {
      "text/plain": [
       "GridSearchCV(cv=10, error_score='raise-deprecating',\n",
       "       estimator=ElasticNet(alpha=1.0, copy_X=True, fit_intercept=True, l1_ratio=0.5,\n",
       "      max_iter=1000, normalize=False, positive=False, precompute=False,\n",
       "      random_state=None, selection='cyclic', tol=0.0001, warm_start=False),\n",
       "       fit_params=None, iid='warn', n_jobs=-1,\n",
       "       param_grid={'l1_ratio': array([0. , 0.1, 0.2, 0.3, 0.4, 0.5, 0.6, 0.7, 0.8, 0.9])},\n",
       "       pre_dispatch='2*n_jobs', refit=True, return_train_score='warn',\n",
       "       scoring='r2', verbose=0)"
      ]
     },
     "execution_count": 59,
     "metadata": {},
     "output_type": "execute_result"
    }
   ],
   "source": [
    "gscv"
   ]
  },
  {
   "cell_type": "code",
   "execution_count": 60,
   "metadata": {},
   "outputs": [
    {
     "name": "stderr",
     "output_type": "stream",
     "text": [
      "C:\\Users\\Akhil\\Anaconda3\\lib\\site-packages\\sklearn\\linear_model\\coordinate_descent.py:492: ConvergenceWarning: Objective did not converge. You might want to increase the number of iterations. Fitting data with very small alpha may cause precision problems.\n",
      "  ConvergenceWarning)\n"
     ]
    },
    {
     "data": {
      "text/plain": [
       "GridSearchCV(cv=10, error_score='raise-deprecating',\n",
       "       estimator=ElasticNet(alpha=1.0, copy_X=True, fit_intercept=True, l1_ratio=0.5,\n",
       "      max_iter=1000, normalize=False, positive=False, precompute=False,\n",
       "      random_state=None, selection='cyclic', tol=0.0001, warm_start=False),\n",
       "       fit_params=None, iid='warn', n_jobs=-1,\n",
       "       param_grid={'l1_ratio': array([0. , 0.1, 0.2, 0.3, 0.4, 0.5, 0.6, 0.7, 0.8, 0.9])},\n",
       "       pre_dispatch='2*n_jobs', refit=True, return_train_score='warn',\n",
       "       scoring='r2', verbose=0)"
      ]
     },
     "execution_count": 60,
     "metadata": {},
     "output_type": "execute_result"
    }
   ],
   "source": [
    "gscv.fit(X_train, y_train)"
   ]
  },
  {
   "cell_type": "code",
   "execution_count": 61,
   "metadata": {},
   "outputs": [],
   "source": [
    "y_pred = gscv.predict(X_test)\n",
    "r2 = gscv.score(X_test, y_test)\n",
    "mse = mean_squared_error(y_test, y_pred)"
   ]
  },
  {
   "cell_type": "code",
   "execution_count": 62,
   "metadata": {},
   "outputs": [
    {
     "name": "stdout",
     "output_type": "stream",
     "text": [
      "[ 5.69780827  9.40092125  7.24922809 ... 13.50024351 10.70359848\n",
      "  8.73784125]\n",
      "0.4454208457327029\n",
      "51.70582298581654\n"
     ]
    }
   ],
   "source": [
    "print(y_pred)\n",
    "print(r2)\n",
    "print(mse)"
   ]
  },
  {
   "cell_type": "code",
   "execution_count": 63,
   "metadata": {},
   "outputs": [
    {
     "data": {
      "text/plain": [
       "array([ 5.69780827,  9.40092125,  7.24922809, 10.42350248,  5.47121954,\n",
       "        7.74203039, 29.96048195, 13.86262087, 18.26647876, 10.58316154,\n",
       "        8.860662  ,  3.921022  , 14.76238576,  7.32034669,  9.39648882,\n",
       "        4.46666207,  7.88579345, 10.22432437, 22.03064828,  8.52305076,\n",
       "        7.51729322, 26.16853521, 15.67546882,  3.94773594,  4.19590131,\n",
       "       10.73285618,  5.79018381,  7.79235116,  9.30790533, 15.18896654,\n",
       "       10.52301038, 20.52285448, 10.36729938, 13.52201182,  4.34789967,\n",
       "       13.90652356,  9.19325198,  7.00279748,  8.8199094 , 12.76845486,\n",
       "       14.03719426, 10.12654972, 18.69289511, 16.65223977, 11.81939706,\n",
       "        9.20093428,  8.57338755, 15.33494203, 14.03719426, 10.3255103 ])"
      ]
     },
     "execution_count": 63,
     "metadata": {},
     "output_type": "execute_result"
    }
   ],
   "source": [
    "y_pred[:50]"
   ]
  },
  {
   "cell_type": "code",
   "execution_count": 64,
   "metadata": {},
   "outputs": [],
   "source": [
    "y_pred_test = gscv.predict(sparse_merge_test)"
   ]
  },
  {
   "cell_type": "code",
   "execution_count": 65,
   "metadata": {},
   "outputs": [
    {
     "data": {
      "text/plain": [
       "array([16.93234709,  5.70960836,  8.95846821,  4.21636235,  5.15481147,\n",
       "       10.12668665, 26.13641608,  4.06836132, 13.78061831,  5.05907018,\n",
       "       21.41092243, 13.60900069, 10.33540462, 18.52346119,  8.49383045,\n",
       "        7.09919466,  7.02785281,  3.97973169, 13.70796681,  8.66332968,\n",
       "        7.15194755, 23.49856999,  7.52622227,  9.99454771, 11.74278895,\n",
       "        2.30294511, 21.5690752 , 13.43606187, 16.67194899,  7.00318714,\n",
       "        4.22668565, 13.788611  , 10.3270009 , 13.72111893, 31.44322037,\n",
       "       10.11592474, 10.36451664,  4.17138228,  2.49092138, 10.31785383,\n",
       "       10.65481997, 10.41874522, 25.02104879,  7.03299151,  6.79509368,\n",
       "       11.9709477 ,  6.80107245, 12.1013544 , 13.57296463,  8.59985135])"
      ]
     },
     "execution_count": 65,
     "metadata": {},
     "output_type": "execute_result"
    }
   ],
   "source": [
    "y_pred_test[:50]"
   ]
  },
  {
   "cell_type": "code",
   "execution_count": 68,
   "metadata": {},
   "outputs": [],
   "source": [
    "y_pred_test = np.around(y_pred_test, 2)"
   ]
  },
  {
   "cell_type": "code",
   "execution_count": 69,
   "metadata": {},
   "outputs": [
    {
     "data": {
      "text/plain": [
       "array([16.93,  5.71,  8.96,  4.22,  5.15, 10.13, 26.14,  4.07, 13.78,\n",
       "        5.06, 21.41, 13.61, 10.34, 18.52,  8.49,  7.1 ,  7.03,  3.98,\n",
       "       13.71,  8.66,  7.15, 23.5 ,  7.53,  9.99, 11.74,  2.3 , 21.57,\n",
       "       13.44, 16.67,  7.  ,  4.23, 13.79, 10.33, 13.72, 31.44, 10.12,\n",
       "       10.36,  4.17,  2.49, 10.32, 10.65, 10.42, 25.02,  7.03,  6.8 ,\n",
       "       11.97,  6.8 , 12.1 , 13.57,  8.6 ])"
      ]
     },
     "execution_count": 69,
     "metadata": {},
     "output_type": "execute_result"
    }
   ],
   "source": [
    "y_pred_test[:50]"
   ]
  },
  {
   "cell_type": "code",
   "execution_count": 70,
   "metadata": {},
   "outputs": [
    {
     "ename": "AttributeError",
     "evalue": "head not found",
     "output_type": "error",
     "traceback": [
      "\u001b[1;31m---------------------------------------------------------------------------\u001b[0m",
      "\u001b[1;31mAttributeError\u001b[0m                            Traceback (most recent call last)",
      "\u001b[1;32m<ipython-input-70-c8ff277ea5c9>\u001b[0m in \u001b[0;36m<module>\u001b[1;34m\u001b[0m\n\u001b[1;32m----> 1\u001b[1;33m \u001b[0mX_test\u001b[0m\u001b[1;33m.\u001b[0m\u001b[0mhead\u001b[0m\u001b[1;33m(\u001b[0m\u001b[1;33m)\u001b[0m\u001b[1;33m\u001b[0m\u001b[1;33m\u001b[0m\u001b[0m\n\u001b[0m",
      "\u001b[1;32m~\\Anaconda3\\lib\\site-packages\\scipy\\sparse\\base.py\u001b[0m in \u001b[0;36m__getattr__\u001b[1;34m(self, attr)\u001b[0m\n\u001b[0;32m    684\u001b[0m             \u001b[1;32mreturn\u001b[0m \u001b[0mself\u001b[0m\u001b[1;33m.\u001b[0m\u001b[0mgetnnz\u001b[0m\u001b[1;33m(\u001b[0m\u001b[1;33m)\u001b[0m\u001b[1;33m\u001b[0m\u001b[1;33m\u001b[0m\u001b[0m\n\u001b[0;32m    685\u001b[0m         \u001b[1;32melse\u001b[0m\u001b[1;33m:\u001b[0m\u001b[1;33m\u001b[0m\u001b[1;33m\u001b[0m\u001b[0m\n\u001b[1;32m--> 686\u001b[1;33m             \u001b[1;32mraise\u001b[0m \u001b[0mAttributeError\u001b[0m\u001b[1;33m(\u001b[0m\u001b[0mattr\u001b[0m \u001b[1;33m+\u001b[0m \u001b[1;34m\" not found\"\u001b[0m\u001b[1;33m)\u001b[0m\u001b[1;33m\u001b[0m\u001b[1;33m\u001b[0m\u001b[0m\n\u001b[0m\u001b[0;32m    687\u001b[0m \u001b[1;33m\u001b[0m\u001b[0m\n\u001b[0;32m    688\u001b[0m     \u001b[1;32mdef\u001b[0m \u001b[0mtranspose\u001b[0m\u001b[1;33m(\u001b[0m\u001b[0mself\u001b[0m\u001b[1;33m,\u001b[0m \u001b[0maxes\u001b[0m\u001b[1;33m=\u001b[0m\u001b[1;32mNone\u001b[0m\u001b[1;33m,\u001b[0m \u001b[0mcopy\u001b[0m\u001b[1;33m=\u001b[0m\u001b[1;32mFalse\u001b[0m\u001b[1;33m)\u001b[0m\u001b[1;33m:\u001b[0m\u001b[1;33m\u001b[0m\u001b[1;33m\u001b[0m\u001b[0m\n",
      "\u001b[1;31mAttributeError\u001b[0m: head not found"
     ]
    }
   ],
   "source": [
    "pd.to_csv()"
   ]
  },
  {
   "cell_type": "code",
   "execution_count": null,
   "metadata": {},
   "outputs": [],
   "source": []
  }
 ],
 "metadata": {
  "kernelspec": {
   "display_name": "Python 3",
   "language": "python",
   "name": "python3"
  },
  "language_info": {
   "codemirror_mode": {
    "name": "ipython",
    "version": 3
   },
   "file_extension": ".py",
   "mimetype": "text/x-python",
   "name": "python",
   "nbconvert_exporter": "python",
   "pygments_lexer": "ipython3",
   "version": "3.7.1"
  }
 },
 "nbformat": 4,
 "nbformat_minor": 2
}
